{
 "cells": [
  {
   "cell_type": "markdown",
   "id": "f71a68ad",
   "metadata": {},
   "source": [
    "## SENTIMENT_ANALYSIS_API_USING_FASTAPI\n",
    "\n",
    "### INTRODUCTION\n",
    "Machine learning models can be consumed as restful APIs. Mostly, the real use of your ML model lies at the heart of an intelligent product – that may be a small component of a recommender system or an intelligent chat-bot. These seem very difficult to overcome as the majority of ML practitioners use R/Python for their experiments whilst consumers of those ML models would be software engineers who use a completely different technology stack.\n",
    "This problem can be easily solved with building of APIs. Web APIs have made it easy for cross-language applications to work well. If a frontend developer needs to use your ML Model to create an ML powered web application, they would just need to get the URL Endpoint from where the API is being served.\n",
    "In this project, we will build an ML model, create a restful API for the model and finally containerized the application with Docker.\n",
    "\n",
    "### METHODOLOGY\n",
    "CRISP-DM framework will be used to carried out this project as it is the standard proceedures for Machine learning and Data Analysis projects. It involes the following steps:\n",
    "Understanding the project (Business understanding)\n",
    "Understanding the datasets\n",
    "Model building\n",
    "Evaluation of the Model\n",
    "Deployment of the Model.\n",
    "\n",
    "\n",
    "### DATA UNDERSTANDING\n",
    "EXPLORATORY DATA ANALYSIS (EDA)\n",
    "Data exploration techniques include both manual analysis and automated data exploration software solutions that visually explore and identify relationships between different data variables, the structure of the dataset, the presence of outliers, and the distribution of data values in order to reveal patterns and points of interest, enabling data analysts to gain greater insight into the raw data.\n",
    "\n",
    "Data is often gathered in large, unstructured volumes from various sources and data analysts must first understand and develop a comprehensive view of the data before extracting relevant data for further analysis, such as univariate, bivariate, multivariate, and principal components analysis\n",
    "\n",
    "#### HYPOTHESIS STATEMENT\n",
    "1) NUL HYPOTHESIS: INSURANCE IS NOT DEPENDENT ON THE PATIENT AGE.\n",
    "2)ALTERNATE HYPOTHESIS: INSURANCE IS DEPENDENT ON THE PATIENT AGE.\n",
    "\n",
    "#### ANALYTICAL QUESTIONS\n",
    "1. WHAT IS THE TOTAL NUMBER OF PATIENTS THAT HOLDS INSURANCE\n",
    "2. WHICH PATIENT AGE WITH THE HIGHEST BLOOD PRESSURE LEVEL.\n",
    "3. HOW MANY PATIENTS HAS POSITIVE SEPSSIS.\n",
    "4. HOW MANY HAS NEGATIVE SEPSSIS\n",
    "5. WHICH AGE HAS THE HIGHEST BODY MASS INDEX\n",
    "\n"
   ]
  }
 ],
 "metadata": {
  "kernelspec": {
   "display_name": "Python 3 (ipykernel)",
   "language": "python",
   "name": "python3"
  },
  "language_info": {
   "codemirror_mode": {
    "name": "ipython",
    "version": 3
   },
   "file_extension": ".py",
   "mimetype": "text/x-python",
   "name": "python",
   "nbconvert_exporter": "python",
   "pygments_lexer": "ipython3",
   "version": "3.11.4"
  }
 },
 "nbformat": 4,
 "nbformat_minor": 5
}
