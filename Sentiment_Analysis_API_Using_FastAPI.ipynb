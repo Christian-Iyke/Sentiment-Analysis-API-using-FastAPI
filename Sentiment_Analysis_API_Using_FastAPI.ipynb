{
 "cells": [
  {
   "cell_type": "markdown",
   "id": "8284864c",
   "metadata": {},
   "source": [
    "# SENTIMENT_ANALYSIS_API_USING_FASTAPI"
   ]
  },
  {
   "cell_type": "markdown",
   "id": "d60ac67c",
   "metadata": {},
   "source": [
    "## INTRODUCTION\n",
    "\n",
    "### Machine learning models can be consumed as restful APIs. Mostly, the real use of your ML model lies at the heart of an intelligent product – that may be a small component of a recommender system or an intelligent chat-bot. These seem very difficult to overcome as the majority of ML practitioners use R/Python for their experiments whilst consumers of those ML models would be software engineers who use a completely different technology stack.\n",
    "\n",
    "### This problem can be easily solved with building of APIs. Web APIs have made it easy for cross-language applications to work well. If a frontend developer needs to use your ML Model to create an ML powered web application, they would just need to get the URL Endpoint from where the API is being served. \n",
    "\n",
    "### In this project, we will build an ML model, create a restful API for the model and finally containerized the application with Docker.\n",
    "\n",
    "\n",
    "## METHODOLOGY\n",
    "\n",
    "### CRISP-DM framework will be used to carried out this project as it is the standard proceedures for Machine learning and Data Analysis projects. It involes the following steps:\n",
    "\n",
    "### Understanding the project (Business understanding)\n",
    "\n",
    "### Understanding the datasets \n",
    "\n",
    "### Model building\n",
    "\n",
    "### Evaluation of the Model \n",
    "\n",
    "### Deployment of the Model.\n",
    "\n",
    "\n",
    "\n",
    "## DATA UNDERSTANDING\n",
    "\n",
    "### EXPLORATORY DATA ANALYSIS (EDA)\n",
    "\n",
    "Data exploration techniques include both manual analysis and automated data exploration software solutions that visually explore and identify relationships between different data variables, the structure of the dataset, the presence of outliers, and the distribution of data values in order to reveal patterns and points of interest, enabling data analysts to gain greater insight into the raw data.\n",
    "\n",
    "Data is often gathered in large, unstructured volumes from various sources and data analysts must first understand and develop a comprehensive view of the data before extracting relevant data for further analysis, such as univariate, bivariate, multivariate, and principal components analysis\n",
    "\n",
    "\n",
    "\n",
    "## HYPOTHESIS STATEMENT\n",
    "\n",
    "### 1) NUL HYPOTHESIS: INSURANCE IS NOT DEPENDENT ON THE PATIENT AGE.\n",
    "\n",
    "### 2)ALTERNATE HYPOTHESIS: INSURANCE IS DEPENDENT ON THE PATIENT AGE.\n",
    "\n",
    "\n",
    "\n",
    "\n",
    "\n",
    "## ANALYTICAL QUESTIONS\n",
    "\n",
    "### 1. WHAT IS THE TOTAL NUMBER OF PATIENTS THAT HOLDS INSURANCE\n",
    "\n",
    "### 2. WHICH PATIENT AGE WITH THE HIGHEST BLOOD PRESSURE LEVEL.\n",
    "\n",
    "### 3.  HOW MANY PATIENTS HAS POSITIVE SEPSSIS.\n",
    "\n",
    "### 4. HOW MANY HAS NEGATIVE SEPSSIS\n",
    "\n",
    "### 5. WHICH AGE HAS THE HIGHEST BODY MASS INDEX\n",
    "\n",
    ".\n",
    "\n",
    "\n",
    "\n",
    "## LOADING RELEVANT LIBRARIES"
   ]
  },
  {
   "cell_type": "code",
   "execution_count": 1,
   "id": "00ba5702",
   "metadata": {},
   "outputs": [],
   "source": [
    "# installing FastAPI\n",
    "\n",
    "#!pip install --only-binary :all: fastapi[all]\n",
    "\n",
    "#!pip install scikit-learn\n",
    "#!pip install imbalanced-learn"
   ]
  },
  {
   "cell_type": "code",
   "execution_count": 56,
   "id": "20570805",
   "metadata": {},
   "outputs": [],
   "source": [
    "import pandas as pd\n",
    "import numpy as np\n",
    "import matplotlib.pyplot as plt\n",
    "import seaborn as sns\n",
    "from fastapi import FastAPI\n",
    "\n",
    "# hypothesis testing tool\n",
    "from statsmodels.tsa.stattools import adfuller\n",
    "from statsmodels.tsa.stattools import kpss\n",
    "\n",
    "#pipelines and transformers \n",
    "from sklearn.pipeline import Pipeline\n",
    "from sklearn.compose import ColumnTransformer \n",
    "from sklearn.pipeline import make_pipeline\n",
    "\n",
    "#handling imbalance datasets\n",
    "#from imblearn.over_sampling import SMOTE\n",
    "from sklearn.utils.class_weight import compute_class_weight\n",
    "\n",
    "#Algorithms libraries\n",
    "from sklearn.tree import DecisionTreeClassifier\n",
    "from sklearn.linear_model import LogisticRegression\n",
    "from sklearn.linear_model import LinearRegression\n",
    "from sklearn.ensemble import RandomForestClassifier\n",
    "\n",
    "# Encoding & preprocessing\n",
    "from sklearn.preprocessing import OneHotEncoder\n",
    "from sklearn.preprocessing import OrdinalEncoder\n",
    "from sklearn.model_selection import train_test_split\n",
    "from sklearn.preprocessing import StandardScaler\n",
    "from sklearn.impute import SimpleImputer\n",
    "\n",
    "from sklearn.metrics import confusion_matrix, accuracy_score \n",
    "from sklearn.metrics import classification_report, precision_recall_curve\n",
    "from sklearn.metrics import f1_score, precision_score, recall_score, fbeta_score\n",
    "from statsmodels.stats.outliers_influence import variance_inflation_factor\n",
    "from sklearn.model_selection import cross_val_score\n",
    "from sklearn.model_selection import GridSearchCV\n",
    "\n",
    "import os\n",
    "import pickle\n",
    "\n",
    "import warnings \n",
    "warnings.filterwarnings('ignore')\n"
   ]
  },
  {
   "cell_type": "markdown",
   "id": "23eeccc4",
   "metadata": {},
   "source": [
    "## LOADING THE DATASETS"
   ]
  },
  {
   "cell_type": "code",
   "execution_count": 3,
   "id": "766ce97d",
   "metadata": {},
   "outputs": [
    {
     "data": {
      "text/html": [
       "<div>\n",
       "<style scoped>\n",
       "    .dataframe tbody tr th:only-of-type {\n",
       "        vertical-align: middle;\n",
       "    }\n",
       "\n",
       "    .dataframe tbody tr th {\n",
       "        vertical-align: top;\n",
       "    }\n",
       "\n",
       "    .dataframe thead th {\n",
       "        text-align: right;\n",
       "    }\n",
       "</style>\n",
       "<table border=\"1\" class=\"dataframe\">\n",
       "  <thead>\n",
       "    <tr style=\"text-align: right;\">\n",
       "      <th></th>\n",
       "      <th>ID</th>\n",
       "      <th>PRG</th>\n",
       "      <th>PL</th>\n",
       "      <th>PR</th>\n",
       "      <th>SK</th>\n",
       "      <th>TS</th>\n",
       "      <th>M11</th>\n",
       "      <th>BD2</th>\n",
       "      <th>Age</th>\n",
       "      <th>Insurance</th>\n",
       "      <th>Sepssis</th>\n",
       "    </tr>\n",
       "  </thead>\n",
       "  <tbody>\n",
       "    <tr>\n",
       "      <th>0</th>\n",
       "      <td>ICU200010</td>\n",
       "      <td>6</td>\n",
       "      <td>148</td>\n",
       "      <td>72</td>\n",
       "      <td>35</td>\n",
       "      <td>0</td>\n",
       "      <td>33.6</td>\n",
       "      <td>0.627</td>\n",
       "      <td>50</td>\n",
       "      <td>0</td>\n",
       "      <td>Positive</td>\n",
       "    </tr>\n",
       "    <tr>\n",
       "      <th>1</th>\n",
       "      <td>ICU200011</td>\n",
       "      <td>1</td>\n",
       "      <td>85</td>\n",
       "      <td>66</td>\n",
       "      <td>29</td>\n",
       "      <td>0</td>\n",
       "      <td>26.6</td>\n",
       "      <td>0.351</td>\n",
       "      <td>31</td>\n",
       "      <td>0</td>\n",
       "      <td>Negative</td>\n",
       "    </tr>\n",
       "    <tr>\n",
       "      <th>2</th>\n",
       "      <td>ICU200012</td>\n",
       "      <td>8</td>\n",
       "      <td>183</td>\n",
       "      <td>64</td>\n",
       "      <td>0</td>\n",
       "      <td>0</td>\n",
       "      <td>23.3</td>\n",
       "      <td>0.672</td>\n",
       "      <td>32</td>\n",
       "      <td>1</td>\n",
       "      <td>Positive</td>\n",
       "    </tr>\n",
       "    <tr>\n",
       "      <th>3</th>\n",
       "      <td>ICU200013</td>\n",
       "      <td>1</td>\n",
       "      <td>89</td>\n",
       "      <td>66</td>\n",
       "      <td>23</td>\n",
       "      <td>94</td>\n",
       "      <td>28.1</td>\n",
       "      <td>0.167</td>\n",
       "      <td>21</td>\n",
       "      <td>1</td>\n",
       "      <td>Negative</td>\n",
       "    </tr>\n",
       "    <tr>\n",
       "      <th>4</th>\n",
       "      <td>ICU200014</td>\n",
       "      <td>0</td>\n",
       "      <td>137</td>\n",
       "      <td>40</td>\n",
       "      <td>35</td>\n",
       "      <td>168</td>\n",
       "      <td>43.1</td>\n",
       "      <td>2.288</td>\n",
       "      <td>33</td>\n",
       "      <td>1</td>\n",
       "      <td>Positive</td>\n",
       "    </tr>\n",
       "    <tr>\n",
       "      <th>...</th>\n",
       "      <td>...</td>\n",
       "      <td>...</td>\n",
       "      <td>...</td>\n",
       "      <td>...</td>\n",
       "      <td>...</td>\n",
       "      <td>...</td>\n",
       "      <td>...</td>\n",
       "      <td>...</td>\n",
       "      <td>...</td>\n",
       "      <td>...</td>\n",
       "      <td>...</td>\n",
       "    </tr>\n",
       "    <tr>\n",
       "      <th>594</th>\n",
       "      <td>ICU200604</td>\n",
       "      <td>6</td>\n",
       "      <td>123</td>\n",
       "      <td>72</td>\n",
       "      <td>45</td>\n",
       "      <td>230</td>\n",
       "      <td>33.6</td>\n",
       "      <td>0.733</td>\n",
       "      <td>34</td>\n",
       "      <td>0</td>\n",
       "      <td>Negative</td>\n",
       "    </tr>\n",
       "    <tr>\n",
       "      <th>595</th>\n",
       "      <td>ICU200605</td>\n",
       "      <td>0</td>\n",
       "      <td>188</td>\n",
       "      <td>82</td>\n",
       "      <td>14</td>\n",
       "      <td>185</td>\n",
       "      <td>32.0</td>\n",
       "      <td>0.682</td>\n",
       "      <td>22</td>\n",
       "      <td>1</td>\n",
       "      <td>Positive</td>\n",
       "    </tr>\n",
       "    <tr>\n",
       "      <th>596</th>\n",
       "      <td>ICU200606</td>\n",
       "      <td>0</td>\n",
       "      <td>67</td>\n",
       "      <td>76</td>\n",
       "      <td>0</td>\n",
       "      <td>0</td>\n",
       "      <td>45.3</td>\n",
       "      <td>0.194</td>\n",
       "      <td>46</td>\n",
       "      <td>1</td>\n",
       "      <td>Negative</td>\n",
       "    </tr>\n",
       "    <tr>\n",
       "      <th>597</th>\n",
       "      <td>ICU200607</td>\n",
       "      <td>1</td>\n",
       "      <td>89</td>\n",
       "      <td>24</td>\n",
       "      <td>19</td>\n",
       "      <td>25</td>\n",
       "      <td>27.8</td>\n",
       "      <td>0.559</td>\n",
       "      <td>21</td>\n",
       "      <td>0</td>\n",
       "      <td>Negative</td>\n",
       "    </tr>\n",
       "    <tr>\n",
       "      <th>598</th>\n",
       "      <td>ICU200608</td>\n",
       "      <td>1</td>\n",
       "      <td>173</td>\n",
       "      <td>74</td>\n",
       "      <td>0</td>\n",
       "      <td>0</td>\n",
       "      <td>36.8</td>\n",
       "      <td>0.088</td>\n",
       "      <td>38</td>\n",
       "      <td>1</td>\n",
       "      <td>Positive</td>\n",
       "    </tr>\n",
       "  </tbody>\n",
       "</table>\n",
       "<p>599 rows × 11 columns</p>\n",
       "</div>"
      ],
      "text/plain": [
       "            ID  PRG   PL  PR  SK   TS   M11    BD2  Age  Insurance   Sepssis\n",
       "0    ICU200010    6  148  72  35    0  33.6  0.627   50          0  Positive\n",
       "1    ICU200011    1   85  66  29    0  26.6  0.351   31          0  Negative\n",
       "2    ICU200012    8  183  64   0    0  23.3  0.672   32          1  Positive\n",
       "3    ICU200013    1   89  66  23   94  28.1  0.167   21          1  Negative\n",
       "4    ICU200014    0  137  40  35  168  43.1  2.288   33          1  Positive\n",
       "..         ...  ...  ...  ..  ..  ...   ...    ...  ...        ...       ...\n",
       "594  ICU200604    6  123  72  45  230  33.6  0.733   34          0  Negative\n",
       "595  ICU200605    0  188  82  14  185  32.0  0.682   22          1  Positive\n",
       "596  ICU200606    0   67  76   0    0  45.3  0.194   46          1  Negative\n",
       "597  ICU200607    1   89  24  19   25  27.8  0.559   21          0  Negative\n",
       "598  ICU200608    1  173  74   0    0  36.8  0.088   38          1  Positive\n",
       "\n",
       "[599 rows x 11 columns]"
      ]
     },
     "execution_count": 3,
     "metadata": {},
     "output_type": "execute_result"
    }
   ],
   "source": [
    "train_df = pd.read_csv(r\"C:\\Users\\USER\\Desktop\\Azubi\\Sentiment Analysis API using FastAPI\\Dataset\\train.csv\")\n",
    "\n",
    "train_df"
   ]
  },
  {
   "cell_type": "markdown",
   "id": "6de59924",
   "metadata": {},
   "source": [
    "### COLUMNS DESCRIPTION\n",
    "#### ID: number to represent patient ID\n",
    "#### PRG: Plasma glucose\n",
    "#### PL: Blood Work Result-1 (mu U/ml)\n",
    "#### PR: Blood Pressure (mm Hg)\n",
    "#### SK: Blood Work Result-2 (mm)\n",
    "#### TS: Blood Work Result-3 (mu U/ml)\n",
    "#### M11: Body mass index (weight in kg/(height in m)^2\n",
    "#### BD2: Blood Work Result-4 (mu U/ml)\n",
    "#### Age: patients age (years)\n",
    "#### Insurance: If a patient holds a valid insurance card\n",
    "#### Sepsis: Positive: if a patient in ICU will develop a sepsis , and Negative: otherwis"
   ]
  },
  {
   "cell_type": "code",
   "execution_count": 4,
   "id": "320a67df",
   "metadata": {},
   "outputs": [
    {
     "data": {
      "text/html": [
       "<div>\n",
       "<style scoped>\n",
       "    .dataframe tbody tr th:only-of-type {\n",
       "        vertical-align: middle;\n",
       "    }\n",
       "\n",
       "    .dataframe tbody tr th {\n",
       "        vertical-align: top;\n",
       "    }\n",
       "\n",
       "    .dataframe thead th {\n",
       "        text-align: right;\n",
       "    }\n",
       "</style>\n",
       "<table border=\"1\" class=\"dataframe\">\n",
       "  <thead>\n",
       "    <tr style=\"text-align: right;\">\n",
       "      <th></th>\n",
       "      <th>ID</th>\n",
       "      <th>PRG</th>\n",
       "      <th>PL</th>\n",
       "      <th>PR</th>\n",
       "      <th>SK</th>\n",
       "      <th>TS</th>\n",
       "      <th>M11</th>\n",
       "      <th>BD2</th>\n",
       "      <th>Age</th>\n",
       "      <th>Insurance</th>\n",
       "      <th>Sepssis</th>\n",
       "    </tr>\n",
       "  </thead>\n",
       "  <tbody>\n",
       "    <tr>\n",
       "      <th>0</th>\n",
       "      <td>ICU200010</td>\n",
       "      <td>6</td>\n",
       "      <td>148</td>\n",
       "      <td>72</td>\n",
       "      <td>35</td>\n",
       "      <td>0</td>\n",
       "      <td>33.6</td>\n",
       "      <td>0.627</td>\n",
       "      <td>50</td>\n",
       "      <td>0</td>\n",
       "      <td>Positive</td>\n",
       "    </tr>\n",
       "    <tr>\n",
       "      <th>1</th>\n",
       "      <td>ICU200011</td>\n",
       "      <td>1</td>\n",
       "      <td>85</td>\n",
       "      <td>66</td>\n",
       "      <td>29</td>\n",
       "      <td>0</td>\n",
       "      <td>26.6</td>\n",
       "      <td>0.351</td>\n",
       "      <td>31</td>\n",
       "      <td>0</td>\n",
       "      <td>Negative</td>\n",
       "    </tr>\n",
       "    <tr>\n",
       "      <th>2</th>\n",
       "      <td>ICU200012</td>\n",
       "      <td>8</td>\n",
       "      <td>183</td>\n",
       "      <td>64</td>\n",
       "      <td>0</td>\n",
       "      <td>0</td>\n",
       "      <td>23.3</td>\n",
       "      <td>0.672</td>\n",
       "      <td>32</td>\n",
       "      <td>1</td>\n",
       "      <td>Positive</td>\n",
       "    </tr>\n",
       "    <tr>\n",
       "      <th>3</th>\n",
       "      <td>ICU200013</td>\n",
       "      <td>1</td>\n",
       "      <td>89</td>\n",
       "      <td>66</td>\n",
       "      <td>23</td>\n",
       "      <td>94</td>\n",
       "      <td>28.1</td>\n",
       "      <td>0.167</td>\n",
       "      <td>21</td>\n",
       "      <td>1</td>\n",
       "      <td>Negative</td>\n",
       "    </tr>\n",
       "    <tr>\n",
       "      <th>4</th>\n",
       "      <td>ICU200014</td>\n",
       "      <td>0</td>\n",
       "      <td>137</td>\n",
       "      <td>40</td>\n",
       "      <td>35</td>\n",
       "      <td>168</td>\n",
       "      <td>43.1</td>\n",
       "      <td>2.288</td>\n",
       "      <td>33</td>\n",
       "      <td>1</td>\n",
       "      <td>Positive</td>\n",
       "    </tr>\n",
       "  </tbody>\n",
       "</table>\n",
       "</div>"
      ],
      "text/plain": [
       "          ID  PRG   PL  PR  SK   TS   M11    BD2  Age  Insurance   Sepssis\n",
       "0  ICU200010    6  148  72  35    0  33.6  0.627   50          0  Positive\n",
       "1  ICU200011    1   85  66  29    0  26.6  0.351   31          0  Negative\n",
       "2  ICU200012    8  183  64   0    0  23.3  0.672   32          1  Positive\n",
       "3  ICU200013    1   89  66  23   94  28.1  0.167   21          1  Negative\n",
       "4  ICU200014    0  137  40  35  168  43.1  2.288   33          1  Positive"
      ]
     },
     "execution_count": 4,
     "metadata": {},
     "output_type": "execute_result"
    }
   ],
   "source": [
    "train_df.head()"
   ]
  },
  {
   "cell_type": "code",
   "execution_count": 5,
   "id": "3260f6a8",
   "metadata": {},
   "outputs": [
    {
     "name": "stdout",
     "output_type": "stream",
     "text": [
      "<class 'pandas.core.frame.DataFrame'>\n",
      "RangeIndex: 599 entries, 0 to 598\n",
      "Data columns (total 11 columns):\n",
      " #   Column     Non-Null Count  Dtype  \n",
      "---  ------     --------------  -----  \n",
      " 0   ID         599 non-null    object \n",
      " 1   PRG        599 non-null    int64  \n",
      " 2   PL         599 non-null    int64  \n",
      " 3   PR         599 non-null    int64  \n",
      " 4   SK         599 non-null    int64  \n",
      " 5   TS         599 non-null    int64  \n",
      " 6   M11        599 non-null    float64\n",
      " 7   BD2        599 non-null    float64\n",
      " 8   Age        599 non-null    int64  \n",
      " 9   Insurance  599 non-null    int64  \n",
      " 10  Sepssis    599 non-null    object \n",
      "dtypes: float64(2), int64(7), object(2)\n",
      "memory usage: 51.6+ KB\n"
     ]
    }
   ],
   "source": [
    "train_df.info()"
   ]
  },
  {
   "cell_type": "code",
   "execution_count": 6,
   "id": "9eddc9db",
   "metadata": {},
   "outputs": [
    {
     "data": {
      "text/html": [
       "<div>\n",
       "<style scoped>\n",
       "    .dataframe tbody tr th:only-of-type {\n",
       "        vertical-align: middle;\n",
       "    }\n",
       "\n",
       "    .dataframe tbody tr th {\n",
       "        vertical-align: top;\n",
       "    }\n",
       "\n",
       "    .dataframe thead th {\n",
       "        text-align: right;\n",
       "    }\n",
       "</style>\n",
       "<table border=\"1\" class=\"dataframe\">\n",
       "  <thead>\n",
       "    <tr style=\"text-align: right;\">\n",
       "      <th></th>\n",
       "      <th>PRG</th>\n",
       "      <th>PL</th>\n",
       "      <th>PR</th>\n",
       "      <th>SK</th>\n",
       "      <th>TS</th>\n",
       "      <th>M11</th>\n",
       "      <th>BD2</th>\n",
       "      <th>Age</th>\n",
       "      <th>Insurance</th>\n",
       "    </tr>\n",
       "  </thead>\n",
       "  <tbody>\n",
       "    <tr>\n",
       "      <th>count</th>\n",
       "      <td>599.000000</td>\n",
       "      <td>599.000000</td>\n",
       "      <td>599.000000</td>\n",
       "      <td>599.000000</td>\n",
       "      <td>599.000000</td>\n",
       "      <td>599.000000</td>\n",
       "      <td>599.000000</td>\n",
       "      <td>599.000000</td>\n",
       "      <td>599.000000</td>\n",
       "    </tr>\n",
       "    <tr>\n",
       "      <th>mean</th>\n",
       "      <td>3.824708</td>\n",
       "      <td>120.153589</td>\n",
       "      <td>68.732888</td>\n",
       "      <td>20.562604</td>\n",
       "      <td>79.460768</td>\n",
       "      <td>31.920033</td>\n",
       "      <td>0.481187</td>\n",
       "      <td>33.290484</td>\n",
       "      <td>0.686144</td>\n",
       "    </tr>\n",
       "    <tr>\n",
       "      <th>std</th>\n",
       "      <td>3.362839</td>\n",
       "      <td>32.682364</td>\n",
       "      <td>19.335675</td>\n",
       "      <td>16.017622</td>\n",
       "      <td>116.576176</td>\n",
       "      <td>8.008227</td>\n",
       "      <td>0.337552</td>\n",
       "      <td>11.828446</td>\n",
       "      <td>0.464447</td>\n",
       "    </tr>\n",
       "    <tr>\n",
       "      <th>min</th>\n",
       "      <td>0.000000</td>\n",
       "      <td>0.000000</td>\n",
       "      <td>0.000000</td>\n",
       "      <td>0.000000</td>\n",
       "      <td>0.000000</td>\n",
       "      <td>0.000000</td>\n",
       "      <td>0.078000</td>\n",
       "      <td>21.000000</td>\n",
       "      <td>0.000000</td>\n",
       "    </tr>\n",
       "    <tr>\n",
       "      <th>25%</th>\n",
       "      <td>1.000000</td>\n",
       "      <td>99.000000</td>\n",
       "      <td>64.000000</td>\n",
       "      <td>0.000000</td>\n",
       "      <td>0.000000</td>\n",
       "      <td>27.100000</td>\n",
       "      <td>0.248000</td>\n",
       "      <td>24.000000</td>\n",
       "      <td>0.000000</td>\n",
       "    </tr>\n",
       "    <tr>\n",
       "      <th>50%</th>\n",
       "      <td>3.000000</td>\n",
       "      <td>116.000000</td>\n",
       "      <td>70.000000</td>\n",
       "      <td>23.000000</td>\n",
       "      <td>36.000000</td>\n",
       "      <td>32.000000</td>\n",
       "      <td>0.383000</td>\n",
       "      <td>29.000000</td>\n",
       "      <td>1.000000</td>\n",
       "    </tr>\n",
       "    <tr>\n",
       "      <th>75%</th>\n",
       "      <td>6.000000</td>\n",
       "      <td>140.000000</td>\n",
       "      <td>80.000000</td>\n",
       "      <td>32.000000</td>\n",
       "      <td>123.500000</td>\n",
       "      <td>36.550000</td>\n",
       "      <td>0.647000</td>\n",
       "      <td>40.000000</td>\n",
       "      <td>1.000000</td>\n",
       "    </tr>\n",
       "    <tr>\n",
       "      <th>max</th>\n",
       "      <td>17.000000</td>\n",
       "      <td>198.000000</td>\n",
       "      <td>122.000000</td>\n",
       "      <td>99.000000</td>\n",
       "      <td>846.000000</td>\n",
       "      <td>67.100000</td>\n",
       "      <td>2.420000</td>\n",
       "      <td>81.000000</td>\n",
       "      <td>1.000000</td>\n",
       "    </tr>\n",
       "  </tbody>\n",
       "</table>\n",
       "</div>"
      ],
      "text/plain": [
       "              PRG          PL          PR          SK          TS         M11  \\\n",
       "count  599.000000  599.000000  599.000000  599.000000  599.000000  599.000000   \n",
       "mean     3.824708  120.153589   68.732888   20.562604   79.460768   31.920033   \n",
       "std      3.362839   32.682364   19.335675   16.017622  116.576176    8.008227   \n",
       "min      0.000000    0.000000    0.000000    0.000000    0.000000    0.000000   \n",
       "25%      1.000000   99.000000   64.000000    0.000000    0.000000   27.100000   \n",
       "50%      3.000000  116.000000   70.000000   23.000000   36.000000   32.000000   \n",
       "75%      6.000000  140.000000   80.000000   32.000000  123.500000   36.550000   \n",
       "max     17.000000  198.000000  122.000000   99.000000  846.000000   67.100000   \n",
       "\n",
       "              BD2         Age   Insurance  \n",
       "count  599.000000  599.000000  599.000000  \n",
       "mean     0.481187   33.290484    0.686144  \n",
       "std      0.337552   11.828446    0.464447  \n",
       "min      0.078000   21.000000    0.000000  \n",
       "25%      0.248000   24.000000    0.000000  \n",
       "50%      0.383000   29.000000    1.000000  \n",
       "75%      0.647000   40.000000    1.000000  \n",
       "max      2.420000   81.000000    1.000000  "
      ]
     },
     "execution_count": 6,
     "metadata": {},
     "output_type": "execute_result"
    }
   ],
   "source": [
    "train_df.describe()"
   ]
  },
  {
   "cell_type": "code",
   "execution_count": 7,
   "id": "2237c5fd",
   "metadata": {},
   "outputs": [
    {
     "data": {
      "text/plain": [
       "ID           0\n",
       "PRG          0\n",
       "PL           0\n",
       "PR           0\n",
       "SK           0\n",
       "TS           0\n",
       "M11          0\n",
       "BD2          0\n",
       "Age          0\n",
       "Insurance    0\n",
       "Sepssis      0\n",
       "dtype: int64"
      ]
     },
     "execution_count": 7,
     "metadata": {},
     "output_type": "execute_result"
    }
   ],
   "source": [
    "train_df.isna().sum()"
   ]
  },
  {
   "cell_type": "markdown",
   "id": "cc5b8c19",
   "metadata": {},
   "source": [
    "### UNIVARIATE ANALYSIS\n",
    "\n",
    "Univariate Analysis is a type of data visualization where we visualize only a single variable at a time. Univariate Analysis helps us to analyze the distribution of the variable present in the data so that we can perform further analysis."
   ]
  },
  {
   "cell_type": "code",
   "execution_count": 8,
   "id": "2df2d021",
   "metadata": {},
   "outputs": [
    {
     "data": {
      "text/plain": [
       "Negative    391\n",
       "Positive    208\n",
       "Name: Sepssis, dtype: int64"
      ]
     },
     "execution_count": 8,
     "metadata": {},
     "output_type": "execute_result"
    }
   ],
   "source": [
    "# Analysis of the Sepssis Column\n",
    "\n",
    "train_df['Sepssis'].value_counts()"
   ]
  },
  {
   "cell_type": "code",
   "execution_count": 9,
   "id": "dcc5f3cd",
   "metadata": {},
   "outputs": [
    {
     "data": {
      "text/plain": [
       "<Axes: xlabel='Sepssis', ylabel='count'>"
      ]
     },
     "execution_count": 9,
     "metadata": {},
     "output_type": "execute_result"
    },
    {
     "data": {
      "image/png": "[encoded data removed]",
      "text/plain": [
       "<Figure size 640x480 with 1 Axes>"
      ]
     },
     "metadata": {},
     "output_type": "display_data"
    }
   ],
   "source": [
    "# Visualizing the Sepssis Count\n",
    "\n",
    "sns.countplot(x=train_df['Sepssis'])"
   ]
  },
  {
   "cell_type": "code",
   "execution_count": 10,
   "id": "71ea20ea",
   "metadata": {},
   "outputs": [
    {
     "data": {
      "text/plain": [
       "1    411\n",
       "0    188\n",
       "Name: Insurance, dtype: int64"
      ]
     },
     "execution_count": 10,
     "metadata": {},
     "output_type": "execute_result"
    }
   ],
   "source": [
    "# Analysis of the Insurance Column\n",
    "\n",
    "train_df['Insurance'].value_counts()"
   ]
  },
  {
   "cell_type": "code",
   "execution_count": 11,
   "id": "3e5548ad",
   "metadata": {},
   "outputs": [
    {
     "data": {
      "text/plain": [
       "<Axes: xlabel='Insurance', ylabel='count'>"
      ]
     },
     "execution_count": 11,
     "metadata": {},
     "output_type": "execute_result"
    },
    {
     "data": {
      "image/png": "[encoded data removed]",
      "text/plain": [
       "<Figure size 640x480 with 1 Axes>"
      ]
     },
     "metadata": {},
     "output_type": "display_data"
    }
   ],
   "source": [
    "# Visualizing the Insurance Count\n",
    "\n",
    "sns.countplot(x=train_df['Insurance'])"
   ]
  },
  {
   "cell_type": "code",
   "execution_count": 12,
   "id": "afb6a49c",
   "metadata": {},
   "outputs": [
    {
     "data": {
      "text/plain": [
       "22    52\n",
       "21    52\n",
       "25    40\n",
       "24    37\n",
       "23    27\n",
       "29    27\n",
       "28    26\n",
       "26    25\n",
       "27    21\n",
       "41    20\n",
       "31    19\n",
       "37    18\n",
       "30    16\n",
       "33    15\n",
       "42    13\n",
       "32    13\n",
       "36    13\n",
       "38    13\n",
       "46    11\n",
       "35    10\n",
       "39    10\n",
       "34     9\n",
       "45     8\n",
       "40     8\n",
       "43     8\n",
       "51     7\n",
       "58     7\n",
       "44     7\n",
       "52     5\n",
       "60     5\n",
       "57     5\n",
       "47     4\n",
       "62     4\n",
       "55     4\n",
       "50     4\n",
       "54     4\n",
       "48     3\n",
       "59     3\n",
       "65     3\n",
       "53     3\n",
       "66     3\n",
       "49     3\n",
       "63     3\n",
       "67     3\n",
       "61     2\n",
       "56     2\n",
       "69     1\n",
       "72     1\n",
       "81     1\n",
       "64     1\n",
       "Name: Age, dtype: int64"
      ]
     },
     "execution_count": 12,
     "metadata": {},
     "output_type": "execute_result"
    }
   ],
   "source": [
    "train_df['Age'].value_counts()"
   ]
  },
  {
   "cell_type": "code",
   "execution_count": 13,
   "id": "d2b0a810",
   "metadata": {},
   "outputs": [
    {
     "data": {
      "text/plain": [
       "<Axes: xlabel='Age', ylabel='Count'>"
      ]
     },
     "execution_count": 13,
     "metadata": {},
     "output_type": "execute_result"
    },
    {
     "data": {
      "image/png": "[encoded data removed]",
      "text/plain": [
       "<Figure size 640x480 with 1 Axes>"
      ]
     },
     "metadata": {},
     "output_type": "display_data"
    }
   ],
   "source": [
    "sns.histplot(train_df['Age'])"
   ]
  },
  {
   "cell_type": "code",
   "execution_count": 14,
   "id": "abeb3cfe",
   "metadata": {},
   "outputs": [
    {
     "data": {
      "text/plain": [
       "<Axes: >"
      ]
     },
     "execution_count": 14,
     "metadata": {},
     "output_type": "execute_result"
    },
    {
     "data": {
      "image/png": "[encoded data removed]",
      "text/plain": [
       "<Figure size 640x480 with 1 Axes>"
      ]
     },
     "metadata": {},
     "output_type": "display_data"
    }
   ],
   "source": [
    "sns.boxplot(train_df['Age'])"
   ]
  },
  {
   "cell_type": "markdown",
   "id": "06fe796a",
   "metadata": {},
   "source": [
    "From the above graph, it shows that dataset is imbalance. It is not even as those patients with insurance are high and the positive sepssis is also high."
   ]
  },
  {
   "cell_type": "markdown",
   "id": "b80b6d36",
   "metadata": {},
   "source": [
    "## BIVARIATE ANALYSIS\n",
    "\n",
    "Bivariate analysis is the simultaneous analysis of two variables. It explores the concept of the relationship between two variable whether there exists an association and the strength of this association or whether there are differences between two variables and the significance of these differences.\n",
    "\n",
    "### The main three types we will see here are:\n",
    "\n",
    "### Categorical v/s Numerical \n",
    "\n",
    "### Numerical V/s Numerical\n",
    "\n",
    "### Categorical V/s Categorical data"
   ]
  },
  {
   "cell_type": "code",
   "execution_count": 15,
   "id": "6e3016f6",
   "metadata": {},
   "outputs": [
    {
     "data": {
      "text/plain": [
       "(array([0, 1]), [Text(0, 0, 'Positive'), Text(1, 0, 'Negative')])"
      ]
     },
     "execution_count": 15,
     "metadata": {},
     "output_type": "execute_result"
    },
    {
     "data": {
      "image/png": "[encoded data removed]",
      "text/plain": [
       "<Figure size 500x500 with 1 Axes>"
      ]
     },
     "metadata": {},
     "output_type": "display_data"
    }
   ],
   "source": [
    "plt.figure(figsize=(5, 5))\n",
    "sns.barplot(x=train_df['Sepssis'], y=train_df['Age'])\n",
    "plt.xticks(rotation='horizontal')"
   ]
  },
  {
   "cell_type": "markdown",
   "id": "0c5fc7f3",
   "metadata": {},
   "source": [
    "## NUMERICAL VS NUMERICAL COLUMN"
   ]
  },
  {
   "cell_type": "code",
   "execution_count": 16,
   "id": "fdd16052",
   "metadata": {},
   "outputs": [
    {
     "data": {
      "text/plain": [
       "<Axes: xlabel='BD2', ylabel='Age'>"
      ]
     },
     "execution_count": 16,
     "metadata": {},
     "output_type": "execute_result"
    },
    {
     "data": {
      "image/png": "[encoded data removed]",
      "text/plain": [
       "<Figure size 640x480 with 1 Axes>"
      ]
     },
     "metadata": {},
     "output_type": "display_data"
    }
   ],
   "source": [
    "# Age vs Body Mass index (BD2)\n",
    "\n",
    "sns.scatterplot(x=train_df['BD2'],\n",
    "                y=train_df['Age'])"
   ]
  },
  {
   "cell_type": "markdown",
   "id": "9afcfe9b",
   "metadata": {},
   "source": [
    "## MULTIVARIATE ANALYSIS\n",
    "\n",
    "It is an extension of bivariate analysis which means it involves multiple variables at the same time to find correlation between them. Multivariate Analysis is a set of statistical model that examine patterns in multidimensional data by considering at once, several data variable."
   ]
  },
  {
   "cell_type": "code",
   "execution_count": 17,
   "id": "2629be9d",
   "metadata": {},
   "outputs": [
    {
     "data": {
      "text/plain": [
       "<Axes: >"
      ]
     },
     "execution_count": 17,
     "metadata": {},
     "output_type": "execute_result"
    },
    {
     "data": {
      "image/png": "[encoded data removed]",
      "text/plain": [
       "<Figure size 640x480 with 2 Axes>"
      ]
     },
     "metadata": {},
     "output_type": "display_data"
    }
   ],
   "source": [
    "# CORROLETION\n",
    "\n",
    "sns.heatmap(train_df.corr(), annot=True)"
   ]
  },
  {
   "cell_type": "markdown",
   "id": "e104991e",
   "metadata": {},
   "source": [
    "## HYPOTHESIS TESTING\n",
    "\n",
    "### 1) NUL HYPOTHESIS: INSURANCE IS NOT DEPENDENT ON THE PATIENT AGE.\n",
    "\n",
    "### 2)ALTERNATE HYPOTHESIS: INSURANCE IS DEPENDENT ON THE PATIENT AGE.\n",
    "\n",
    "\n",
    "### STATISTICAL TESTING\n",
    "\n",
    "### KPSS TEST"
   ]
  },
  {
   "cell_type": "code",
   "execution_count": 18,
   "id": "92cfb55a",
   "metadata": {},
   "outputs": [
    {
     "name": "stdout",
     "output_type": "stream",
     "text": [
      "Test_Statistics: 0.018561648238904657\n",
      "P-Value:0.1\n",
      "Critical Values:{'10%': 0.119, '5%': 0.146, '2.5%': 0.176, '1%': 0.216}\n",
      "Insurance is Dependent on the Patient Age\n"
     ]
    }
   ],
   "source": [
    "# Significant Value - 5%\n",
    "\n",
    "stats,p,lags,critical_values = kpss(train_df['Insurance'], 'ct')\n",
    "print(f'Test_Statistics: {stats}')\n",
    "print(f'P-Value:{p}')\n",
    "print(f'Critical Values:{critical_values}')\n",
    "\n",
    "if p < 0.05:\n",
    "    print('Insurance is not Dependent on the Patient Age')\n",
    "else:\n",
    "    print('Insurance is Dependent on the Patient Age')"
   ]
  },
  {
   "cell_type": "markdown",
   "id": "ffdf668e",
   "metadata": {},
   "source": [
    "## from the test above, the Insurance is dependent on the Patient Age."
   ]
  },
  {
   "cell_type": "markdown",
   "id": "eb9e0467",
   "metadata": {},
   "source": [
    "## ANALYTICAL QUESTIONS\n",
    "1. WHAT IS THE TOTAL NUMBER OF PATIENTS THAT HOLDS INSURANCE\n",
    "\n",
    "2. WHICH PATIENT AGE WITH THE HIGHEST BLOOD PRESSURE LEVEL.\n",
    "\n",
    "3. HOW MANY PATIENTS HAS POSITIVE SEPSSIS.\n",
    "\n",
    "4. HOW MANY HAS NEGATIVE SEPSSIS.\n",
    "\n",
    "5. WHICH AGE HAS THE HIGHEST BODY MASS INDEX"
   ]
  },
  {
   "cell_type": "markdown",
   "id": "580d9b42",
   "metadata": {},
   "source": [
    "### 1. WHAT IS THE TOTAL NUMBER OF PATIENTS THAT HOLDS INSURANCE"
   ]
  },
  {
   "cell_type": "code",
   "execution_count": 19,
   "id": "76b7554e",
   "metadata": {},
   "outputs": [
    {
     "data": {
      "text/plain": [
       "1    411\n",
       "0    188\n",
       "Name: Insurance, dtype: int64"
      ]
     },
     "execution_count": 19,
     "metadata": {},
     "output_type": "execute_result"
    }
   ],
   "source": [
    "# What is the Total number of patients that holds insurance\n",
    "\n",
    "train_df['Insurance'].value_counts()"
   ]
  },
  {
   "cell_type": "code",
   "execution_count": 20,
   "id": "b7d1e93f",
   "metadata": {},
   "outputs": [
    {
     "data": {
      "text/plain": [
       "<Axes: xlabel='Insurance', ylabel='count'>"
      ]
     },
     "execution_count": 20,
     "metadata": {},
     "output_type": "execute_result"
    },
    {
     "data": {
      "image/png": "[encoded data removed]",
      "text/plain": [
       "<Figure size 640x480 with 1 Axes>"
      ]
     },
     "metadata": {},
     "output_type": "display_data"
    }
   ],
   "source": [
    "# Visualizing the Insurance Count\n",
    "\n",
    "sns.countplot(x=train_df['Insurance'])"
   ]
  },
  {
   "cell_type": "markdown",
   "id": "f8295d12",
   "metadata": {},
   "source": [
    "The total Patients with Insurance is 411"
   ]
  },
  {
   "cell_type": "markdown",
   "id": "2790f1f6",
   "metadata": {},
   "source": [
    "### 2. WHICH PATIENT AGE WITH THE HIGHEST BLOOD PRESSURE LEVEL"
   ]
  },
  {
   "cell_type": "code",
   "execution_count": 21,
   "id": "80b882e0",
   "metadata": {},
   "outputs": [
    {
     "data": {
      "text/html": [
       "<div>\n",
       "<style scoped>\n",
       "    .dataframe tbody tr th:only-of-type {\n",
       "        vertical-align: middle;\n",
       "    }\n",
       "\n",
       "    .dataframe tbody tr th {\n",
       "        vertical-align: top;\n",
       "    }\n",
       "\n",
       "    .dataframe thead th {\n",
       "        text-align: right;\n",
       "    }\n",
       "</style>\n",
       "<table border=\"1\" class=\"dataframe\">\n",
       "  <thead>\n",
       "    <tr style=\"text-align: right;\">\n",
       "      <th></th>\n",
       "      <th>Age</th>\n",
       "      <th>PR</th>\n",
       "    </tr>\n",
       "  </thead>\n",
       "  <tbody>\n",
       "    <tr>\n",
       "      <th>0</th>\n",
       "      <td>54</td>\n",
       "      <td>93.500</td>\n",
       "    </tr>\n",
       "    <tr>\n",
       "      <th>1</th>\n",
       "      <td>49</td>\n",
       "      <td>87.000</td>\n",
       "    </tr>\n",
       "    <tr>\n",
       "      <th>2</th>\n",
       "      <td>66</td>\n",
       "      <td>84.000</td>\n",
       "    </tr>\n",
       "    <tr>\n",
       "      <th>3</th>\n",
       "      <td>52</td>\n",
       "      <td>83.200</td>\n",
       "    </tr>\n",
       "    <tr>\n",
       "      <th>4</th>\n",
       "      <td>50</td>\n",
       "      <td>82.000</td>\n",
       "    </tr>\n",
       "  </tbody>\n",
       "</table>\n",
       "</div>"
      ],
      "text/plain": [
       "   Age     PR\n",
       "0   54 93.500\n",
       "1   49 87.000\n",
       "2   66 84.000\n",
       "3   52 83.200\n",
       "4   50 82.000"
      ]
     },
     "execution_count": 21,
     "metadata": {},
     "output_type": "execute_result"
    }
   ],
   "source": [
    "# Getting the Age by the Blood Pressure Level\n",
    "\n",
    "pd.set_option('display.float_format', lambda x: '%.3f' % x)\n",
    "type_aggregate = train_df.groupby(['Age'])['PR'].mean().sort_values(ascending=False).reset_index()\n",
    "type_aggregate.head()"
   ]
  },
  {
   "cell_type": "code",
   "execution_count": 22,
   "id": "0733f28b",
   "metadata": {},
   "outputs": [
    {
     "data": {
      "image/png": "[encoded data removed]",
      "text/plain": [
       "<Figure size 800x500 with 1 Axes>"
      ]
     },
     "metadata": {},
     "output_type": "display_data"
    }
   ],
   "source": [
    "# Visiualizing the total Age by PR\n",
    "\n",
    "plt.figure(figsize=(8,5))\n",
    "sns.barplot(x='Age', y='PR', data=type_aggregate.head())\n",
    "plt.title('Patient Age with the Highest Blood Pressure Level')\n",
    "plt.show()"
   ]
  },
  {
   "cell_type": "markdown",
   "id": "f98bca76",
   "metadata": {},
   "source": [
    "The Patient Age with the highest Blood Pressure level is 54, blood Pressure = 93.500"
   ]
  },
  {
   "cell_type": "markdown",
   "id": "c3b0a2ee",
   "metadata": {},
   "source": [
    "### 3. HOW MANY PATIENTS HAS POSITIVE SEPSSIS."
   ]
  },
  {
   "cell_type": "code",
   "execution_count": 23,
   "id": "0a61b5d6",
   "metadata": {},
   "outputs": [
    {
     "data": {
      "text/plain": [
       "Negative    391\n",
       "Positive    208\n",
       "Name: Sepssis, dtype: int64"
      ]
     },
     "execution_count": 23,
     "metadata": {},
     "output_type": "execute_result"
    }
   ],
   "source": [
    "train_df['Sepssis'].value_counts()"
   ]
  },
  {
   "cell_type": "code",
   "execution_count": 24,
   "id": "018b74e6",
   "metadata": {},
   "outputs": [
    {
     "data": {
      "text/plain": [
       "<Axes: xlabel='Sepssis', ylabel='count'>"
      ]
     },
     "execution_count": 24,
     "metadata": {},
     "output_type": "execute_result"
    },
    {
     "data": {
      "image/png": "[encoded data removed]",
      "text/plain": [
       "<Figure size 640x480 with 1 Axes>"
      ]
     },
     "metadata": {},
     "output_type": "display_data"
    }
   ],
   "source": [
    "# Visualizing the Sepssis Count for Positive\n",
    "\n",
    "sns.countplot(x=train_df['Sepssis'])"
   ]
  },
  {
   "cell_type": "markdown",
   "id": "d64b809a",
   "metadata": {},
   "source": [
    "The patients with Positive Sepssis is 208"
   ]
  },
  {
   "cell_type": "markdown",
   "id": "b1c4b167",
   "metadata": {},
   "source": [
    "### 4. HOW MANY HAS NEGATIVE SEPSSIS."
   ]
  },
  {
   "cell_type": "code",
   "execution_count": 25,
   "id": "e05dd574",
   "metadata": {},
   "outputs": [
    {
     "data": {
      "text/plain": [
       "Negative    391\n",
       "Positive    208\n",
       "Name: Sepssis, dtype: int64"
      ]
     },
     "execution_count": 25,
     "metadata": {},
     "output_type": "execute_result"
    }
   ],
   "source": [
    "train_df['Sepssis'].value_counts()"
   ]
  },
  {
   "cell_type": "code",
   "execution_count": 26,
   "id": "64f97b6f",
   "metadata": {},
   "outputs": [
    {
     "data": {
      "text/plain": [
       "<Axes: xlabel='Sepssis', ylabel='count'>"
      ]
     },
     "execution_count": 26,
     "metadata": {},
     "output_type": "execute_result"
    },
    {
     "data": {
      "image/png": "[encoded data removed]",
      "text/plain": [
       "<Figure size 640x480 with 1 Axes>"
      ]
     },
     "metadata": {},
     "output_type": "display_data"
    }
   ],
   "source": [
    "# Visualizing the Sepssis Count for Negative\n",
    "\n",
    "sns.countplot(x=train_df['Sepssis'])"
   ]
  },
  {
   "cell_type": "markdown",
   "id": "f5a4da7f",
   "metadata": {},
   "source": [
    "Patients with Negative Sepssis is 391"
   ]
  },
  {
   "cell_type": "markdown",
   "id": "a658d8dc",
   "metadata": {},
   "source": [
    "### 5. WHICH AGE HAS THE HIGHEST BODY MASS INDEX"
   ]
  },
  {
   "cell_type": "code",
   "execution_count": 27,
   "id": "5ff8643b",
   "metadata": {},
   "outputs": [
    {
     "data": {
      "text/html": [
       "<div>\n",
       "<style scoped>\n",
       "    .dataframe tbody tr th:only-of-type {\n",
       "        vertical-align: middle;\n",
       "    }\n",
       "\n",
       "    .dataframe tbody tr th {\n",
       "        vertical-align: top;\n",
       "    }\n",
       "\n",
       "    .dataframe thead th {\n",
       "        text-align: right;\n",
       "    }\n",
       "</style>\n",
       "<table border=\"1\" class=\"dataframe\">\n",
       "  <thead>\n",
       "    <tr style=\"text-align: right;\">\n",
       "      <th></th>\n",
       "      <th>Age</th>\n",
       "      <th>M11</th>\n",
       "    </tr>\n",
       "  </thead>\n",
       "  <tbody>\n",
       "    <tr>\n",
       "      <th>0</th>\n",
       "      <td>43</td>\n",
       "      <td>36.888</td>\n",
       "    </tr>\n",
       "    <tr>\n",
       "      <th>1</th>\n",
       "      <td>56</td>\n",
       "      <td>36.000</td>\n",
       "    </tr>\n",
       "    <tr>\n",
       "      <th>2</th>\n",
       "      <td>45</td>\n",
       "      <td>35.925</td>\n",
       "    </tr>\n",
       "    <tr>\n",
       "      <th>3</th>\n",
       "      <td>42</td>\n",
       "      <td>35.500</td>\n",
       "    </tr>\n",
       "    <tr>\n",
       "      <th>4</th>\n",
       "      <td>47</td>\n",
       "      <td>35.450</td>\n",
       "    </tr>\n",
       "  </tbody>\n",
       "</table>\n",
       "</div>"
      ],
      "text/plain": [
       "   Age    M11\n",
       "0   43 36.888\n",
       "1   56 36.000\n",
       "2   45 35.925\n",
       "3   42 35.500\n",
       "4   47 35.450"
      ]
     },
     "execution_count": 27,
     "metadata": {},
     "output_type": "execute_result"
    }
   ],
   "source": [
    "# Getting the Age by the Body Mass Index\n",
    "\n",
    "pd.set_option('display.float_format', lambda x: '%.3f' % x)\n",
    "type_aggregate2 = train_df.groupby(['Age'])['M11'].mean().sort_values(ascending=False).reset_index()\n",
    "type_aggregate2.head()"
   ]
  },
  {
   "cell_type": "code",
   "execution_count": 28,
   "id": "45880116",
   "metadata": {},
   "outputs": [
    {
     "data": {
      "image/png": "[encoded data removed]",
      "text/plain": [
       "<Figure size 800x500 with 1 Axes>"
      ]
     },
     "metadata": {},
     "output_type": "display_data"
    }
   ],
   "source": [
    "plt.figure(figsize=(8,5))\n",
    "sns.barplot(x='Age', y='M11', data=type_aggregate2.head())\n",
    "plt.title('Patient Age with the Highest Body Mass Index')\n",
    "plt.show()"
   ]
  },
  {
   "cell_type": "markdown",
   "id": "33c28145",
   "metadata": {},
   "source": [
    "Age with the highest Body Mass Index is 43"
   ]
  },
  {
   "cell_type": "markdown",
   "id": "8574baab",
   "metadata": {},
   "source": [
    "## CHECKING DATA IMBALANCE\n",
    "\n",
    "### CLASS FRQUENCY USING VALUE_COUNTS AND FINDING CLASS DISTRIBUTION RATIO"
   ]
  },
  {
   "cell_type": "code",
   "execution_count": 29,
   "id": "23da9cd5",
   "metadata": {},
   "outputs": [
    {
     "data": {
      "text/plain": [
       "1.8798076923076923"
      ]
     },
     "execution_count": 29,
     "metadata": {},
     "output_type": "execute_result"
    }
   ],
   "source": [
    "# Using the Sepssis column to check for imbalance\n",
    "\n",
    "train_df['Sepssis'].value_counts()\n",
    "positive = len(train_df[train_df['Sepssis'] == 'Positive'])\n",
    "negative = len(train_df[train_df['Sepssis'] == 'Negative'])\n",
    "\n",
    "class_distribution_ratio = negative/positive\n",
    "\n",
    "class_distribution_ratio\n"
   ]
  },
  {
   "cell_type": "code",
   "execution_count": 30,
   "id": "ac7ce9c4",
   "metadata": {},
   "outputs": [
    {
     "data": {
      "text/plain": [
       "(208, 391)"
      ]
     },
     "execution_count": 30,
     "metadata": {},
     "output_type": "execute_result"
    }
   ],
   "source": [
    "positive, negative"
   ]
  },
  {
   "cell_type": "markdown",
   "id": "f3b7997a",
   "metadata": {},
   "source": [
    "## FEATURE ENIGEENRING"
   ]
  },
  {
   "cell_type": "code",
   "execution_count": 31,
   "id": "6e22da75",
   "metadata": {},
   "outputs": [
    {
     "data": {
      "text/html": [
       "<div>\n",
       "<style scoped>\n",
       "    .dataframe tbody tr th:only-of-type {\n",
       "        vertical-align: middle;\n",
       "    }\n",
       "\n",
       "    .dataframe tbody tr th {\n",
       "        vertical-align: top;\n",
       "    }\n",
       "\n",
       "    .dataframe thead th {\n",
       "        text-align: right;\n",
       "    }\n",
       "</style>\n",
       "<table border=\"1\" class=\"dataframe\">\n",
       "  <thead>\n",
       "    <tr style=\"text-align: right;\">\n",
       "      <th></th>\n",
       "      <th>ID</th>\n",
       "      <th>PRG</th>\n",
       "      <th>PL</th>\n",
       "      <th>PR</th>\n",
       "      <th>SK</th>\n",
       "      <th>TS</th>\n",
       "      <th>M11</th>\n",
       "      <th>BD2</th>\n",
       "      <th>Age</th>\n",
       "      <th>Insurance</th>\n",
       "      <th>Sepssis</th>\n",
       "    </tr>\n",
       "  </thead>\n",
       "  <tbody>\n",
       "    <tr>\n",
       "      <th>0</th>\n",
       "      <td>ICU200010</td>\n",
       "      <td>6</td>\n",
       "      <td>148</td>\n",
       "      <td>72</td>\n",
       "      <td>35</td>\n",
       "      <td>0</td>\n",
       "      <td>33.600</td>\n",
       "      <td>0.627</td>\n",
       "      <td>50</td>\n",
       "      <td>0</td>\n",
       "      <td>Positive</td>\n",
       "    </tr>\n",
       "    <tr>\n",
       "      <th>1</th>\n",
       "      <td>ICU200011</td>\n",
       "      <td>1</td>\n",
       "      <td>85</td>\n",
       "      <td>66</td>\n",
       "      <td>29</td>\n",
       "      <td>0</td>\n",
       "      <td>26.600</td>\n",
       "      <td>0.351</td>\n",
       "      <td>31</td>\n",
       "      <td>0</td>\n",
       "      <td>Negative</td>\n",
       "    </tr>\n",
       "    <tr>\n",
       "      <th>2</th>\n",
       "      <td>ICU200012</td>\n",
       "      <td>8</td>\n",
       "      <td>183</td>\n",
       "      <td>64</td>\n",
       "      <td>0</td>\n",
       "      <td>0</td>\n",
       "      <td>23.300</td>\n",
       "      <td>0.672</td>\n",
       "      <td>32</td>\n",
       "      <td>1</td>\n",
       "      <td>Positive</td>\n",
       "    </tr>\n",
       "    <tr>\n",
       "      <th>3</th>\n",
       "      <td>ICU200013</td>\n",
       "      <td>1</td>\n",
       "      <td>89</td>\n",
       "      <td>66</td>\n",
       "      <td>23</td>\n",
       "      <td>94</td>\n",
       "      <td>28.100</td>\n",
       "      <td>0.167</td>\n",
       "      <td>21</td>\n",
       "      <td>1</td>\n",
       "      <td>Negative</td>\n",
       "    </tr>\n",
       "    <tr>\n",
       "      <th>4</th>\n",
       "      <td>ICU200014</td>\n",
       "      <td>0</td>\n",
       "      <td>137</td>\n",
       "      <td>40</td>\n",
       "      <td>35</td>\n",
       "      <td>168</td>\n",
       "      <td>43.100</td>\n",
       "      <td>2.288</td>\n",
       "      <td>33</td>\n",
       "      <td>1</td>\n",
       "      <td>Positive</td>\n",
       "    </tr>\n",
       "  </tbody>\n",
       "</table>\n",
       "</div>"
      ],
      "text/plain": [
       "          ID  PRG   PL  PR  SK   TS    M11   BD2  Age  Insurance   Sepssis\n",
       "0  ICU200010    6  148  72  35    0 33.600 0.627   50          0  Positive\n",
       "1  ICU200011    1   85  66  29    0 26.600 0.351   31          0  Negative\n",
       "2  ICU200012    8  183  64   0    0 23.300 0.672   32          1  Positive\n",
       "3  ICU200013    1   89  66  23   94 28.100 0.167   21          1  Negative\n",
       "4  ICU200014    0  137  40  35  168 43.100 2.288   33          1  Positive"
      ]
     },
     "execution_count": 31,
     "metadata": {},
     "output_type": "execute_result"
    }
   ],
   "source": [
    "train_df.head()"
   ]
  },
  {
   "cell_type": "code",
   "execution_count": 32,
   "id": "c3d659e4",
   "metadata": {},
   "outputs": [],
   "source": [
    "# Remove the ID column as it is not necesary\n",
    "\n",
    "train_data = train_df.drop(columns='ID', axis=1)\n"
   ]
  },
  {
   "cell_type": "code",
   "execution_count": 33,
   "id": "ba92b4af",
   "metadata": {},
   "outputs": [],
   "source": [
    "# Renaming the PRG to BD2 columns names\n",
    "\n",
    "train_data = train_data.rename(columns = {'PRG': 'Plasma Glucose level', 'PL': '1st Blood Work Result', \n",
    "                                          'PR': 'Blood Pressure Level', 'SK':'2nd Blood Work Result', \n",
    "                                          'TS': '3rd Blood work Result', 'M11':'Body Mass Index', 'BD2':'4th Blod Work Result'})"
   ]
  },
  {
   "cell_type": "code",
   "execution_count": 34,
   "id": "bbe82216",
   "metadata": {},
   "outputs": [],
   "source": [
    "# Replace the Positive and Negative in Sepssis Column\n",
    "\n",
    "train_data['Sepssis'].replace({'Positive': 1, 'Negative': 0}, inplace=True)"
   ]
  },
  {
   "cell_type": "code",
   "execution_count": 35,
   "id": "57d41695",
   "metadata": {},
   "outputs": [
    {
     "data": {
      "text/html": [
       "<div>\n",
       "<style scoped>\n",
       "    .dataframe tbody tr th:only-of-type {\n",
       "        vertical-align: middle;\n",
       "    }\n",
       "\n",
       "    .dataframe tbody tr th {\n",
       "        vertical-align: top;\n",
       "    }\n",
       "\n",
       "    .dataframe thead th {\n",
       "        text-align: right;\n",
       "    }\n",
       "</style>\n",
       "<table border=\"1\" class=\"dataframe\">\n",
       "  <thead>\n",
       "    <tr style=\"text-align: right;\">\n",
       "      <th></th>\n",
       "      <th>Plasma Glucose level</th>\n",
       "      <th>1st Blood Work Result</th>\n",
       "      <th>Blood Pressure Level</th>\n",
       "      <th>2nd Blood Work Result</th>\n",
       "      <th>3rd Blood work Result</th>\n",
       "      <th>Body Mass Index</th>\n",
       "      <th>4th Blod Work Result</th>\n",
       "      <th>Age</th>\n",
       "      <th>Insurance</th>\n",
       "      <th>Sepssis</th>\n",
       "    </tr>\n",
       "  </thead>\n",
       "  <tbody>\n",
       "    <tr>\n",
       "      <th>0</th>\n",
       "      <td>6</td>\n",
       "      <td>148</td>\n",
       "      <td>72</td>\n",
       "      <td>35</td>\n",
       "      <td>0</td>\n",
       "      <td>33.600</td>\n",
       "      <td>0.627</td>\n",
       "      <td>50</td>\n",
       "      <td>0</td>\n",
       "      <td>1</td>\n",
       "    </tr>\n",
       "    <tr>\n",
       "      <th>1</th>\n",
       "      <td>1</td>\n",
       "      <td>85</td>\n",
       "      <td>66</td>\n",
       "      <td>29</td>\n",
       "      <td>0</td>\n",
       "      <td>26.600</td>\n",
       "      <td>0.351</td>\n",
       "      <td>31</td>\n",
       "      <td>0</td>\n",
       "      <td>0</td>\n",
       "    </tr>\n",
       "    <tr>\n",
       "      <th>2</th>\n",
       "      <td>8</td>\n",
       "      <td>183</td>\n",
       "      <td>64</td>\n",
       "      <td>0</td>\n",
       "      <td>0</td>\n",
       "      <td>23.300</td>\n",
       "      <td>0.672</td>\n",
       "      <td>32</td>\n",
       "      <td>1</td>\n",
       "      <td>1</td>\n",
       "    </tr>\n",
       "    <tr>\n",
       "      <th>3</th>\n",
       "      <td>1</td>\n",
       "      <td>89</td>\n",
       "      <td>66</td>\n",
       "      <td>23</td>\n",
       "      <td>94</td>\n",
       "      <td>28.100</td>\n",
       "      <td>0.167</td>\n",
       "      <td>21</td>\n",
       "      <td>1</td>\n",
       "      <td>0</td>\n",
       "    </tr>\n",
       "    <tr>\n",
       "      <th>4</th>\n",
       "      <td>0</td>\n",
       "      <td>137</td>\n",
       "      <td>40</td>\n",
       "      <td>35</td>\n",
       "      <td>168</td>\n",
       "      <td>43.100</td>\n",
       "      <td>2.288</td>\n",
       "      <td>33</td>\n",
       "      <td>1</td>\n",
       "      <td>1</td>\n",
       "    </tr>\n",
       "    <tr>\n",
       "      <th>...</th>\n",
       "      <td>...</td>\n",
       "      <td>...</td>\n",
       "      <td>...</td>\n",
       "      <td>...</td>\n",
       "      <td>...</td>\n",
       "      <td>...</td>\n",
       "      <td>...</td>\n",
       "      <td>...</td>\n",
       "      <td>...</td>\n",
       "      <td>...</td>\n",
       "    </tr>\n",
       "    <tr>\n",
       "      <th>594</th>\n",
       "      <td>6</td>\n",
       "      <td>123</td>\n",
       "      <td>72</td>\n",
       "      <td>45</td>\n",
       "      <td>230</td>\n",
       "      <td>33.600</td>\n",
       "      <td>0.733</td>\n",
       "      <td>34</td>\n",
       "      <td>0</td>\n",
       "      <td>0</td>\n",
       "    </tr>\n",
       "    <tr>\n",
       "      <th>595</th>\n",
       "      <td>0</td>\n",
       "      <td>188</td>\n",
       "      <td>82</td>\n",
       "      <td>14</td>\n",
       "      <td>185</td>\n",
       "      <td>32.000</td>\n",
       "      <td>0.682</td>\n",
       "      <td>22</td>\n",
       "      <td>1</td>\n",
       "      <td>1</td>\n",
       "    </tr>\n",
       "    <tr>\n",
       "      <th>596</th>\n",
       "      <td>0</td>\n",
       "      <td>67</td>\n",
       "      <td>76</td>\n",
       "      <td>0</td>\n",
       "      <td>0</td>\n",
       "      <td>45.300</td>\n",
       "      <td>0.194</td>\n",
       "      <td>46</td>\n",
       "      <td>1</td>\n",
       "      <td>0</td>\n",
       "    </tr>\n",
       "    <tr>\n",
       "      <th>597</th>\n",
       "      <td>1</td>\n",
       "      <td>89</td>\n",
       "      <td>24</td>\n",
       "      <td>19</td>\n",
       "      <td>25</td>\n",
       "      <td>27.800</td>\n",
       "      <td>0.559</td>\n",
       "      <td>21</td>\n",
       "      <td>0</td>\n",
       "      <td>0</td>\n",
       "    </tr>\n",
       "    <tr>\n",
       "      <th>598</th>\n",
       "      <td>1</td>\n",
       "      <td>173</td>\n",
       "      <td>74</td>\n",
       "      <td>0</td>\n",
       "      <td>0</td>\n",
       "      <td>36.800</td>\n",
       "      <td>0.088</td>\n",
       "      <td>38</td>\n",
       "      <td>1</td>\n",
       "      <td>1</td>\n",
       "    </tr>\n",
       "  </tbody>\n",
       "</table>\n",
       "<p>599 rows × 10 columns</p>\n",
       "</div>"
      ],
      "text/plain": [
       "     Plasma Glucose level  1st Blood Work Result  Blood Pressure Level  \\\n",
       "0                       6                    148                    72   \n",
       "1                       1                     85                    66   \n",
       "2                       8                    183                    64   \n",
       "3                       1                     89                    66   \n",
       "4                       0                    137                    40   \n",
       "..                    ...                    ...                   ...   \n",
       "594                     6                    123                    72   \n",
       "595                     0                    188                    82   \n",
       "596                     0                     67                    76   \n",
       "597                     1                     89                    24   \n",
       "598                     1                    173                    74   \n",
       "\n",
       "     2nd Blood Work Result  3rd Blood work Result  Body Mass Index  \\\n",
       "0                       35                      0           33.600   \n",
       "1                       29                      0           26.600   \n",
       "2                        0                      0           23.300   \n",
       "3                       23                     94           28.100   \n",
       "4                       35                    168           43.100   \n",
       "..                     ...                    ...              ...   \n",
       "594                     45                    230           33.600   \n",
       "595                     14                    185           32.000   \n",
       "596                      0                      0           45.300   \n",
       "597                     19                     25           27.800   \n",
       "598                      0                      0           36.800   \n",
       "\n",
       "     4th Blod Work Result  Age  Insurance  Sepssis  \n",
       "0                   0.627   50          0        1  \n",
       "1                   0.351   31          0        0  \n",
       "2                   0.672   32          1        1  \n",
       "3                   0.167   21          1        0  \n",
       "4                   2.288   33          1        1  \n",
       "..                    ...  ...        ...      ...  \n",
       "594                 0.733   34          0        0  \n",
       "595                 0.682   22          1        1  \n",
       "596                 0.194   46          1        0  \n",
       "597                 0.559   21          0        0  \n",
       "598                 0.088   38          1        1  \n",
       "\n",
       "[599 rows x 10 columns]"
      ]
     },
     "execution_count": 35,
     "metadata": {},
     "output_type": "execute_result"
    }
   ],
   "source": [
    "train_data"
   ]
  },
  {
   "cell_type": "code",
   "execution_count": 36,
   "id": "79c1ba70",
   "metadata": {},
   "outputs": [
    {
     "data": {
      "text/plain": [
       "Plasma Glucose level     0\n",
       "1st Blood Work Result    0\n",
       "Blood Pressure Level     0\n",
       "2nd Blood Work Result    0\n",
       "3rd Blood work Result    0\n",
       "Body Mass Index          0\n",
       "4th Blod Work Result     0\n",
       "Age                      0\n",
       "Insurance                0\n",
       "Sepssis                  0\n",
       "dtype: int64"
      ]
     },
     "execution_count": 36,
     "metadata": {},
     "output_type": "execute_result"
    }
   ],
   "source": [
    "train_data.isna().sum()"
   ]
  },
  {
   "cell_type": "code",
   "execution_count": 37,
   "id": "eeb62367",
   "metadata": {},
   "outputs": [],
   "source": [
    "# Remove all NaN values in any rows\n",
    "train_data = train_data[~train_data.isna().any(axis=1)]"
   ]
  },
  {
   "cell_type": "markdown",
   "id": "595f3ddf",
   "metadata": {},
   "source": [
    "# DATA SPLITTING"
   ]
  },
  {
   "cell_type": "code",
   "execution_count": 38,
   "id": "a724974c",
   "metadata": {},
   "outputs": [
    {
     "name": "stdout",
     "output_type": "stream",
     "text": [
      "Index(['Plasma Glucose level', '1st Blood Work Result', 'Blood Pressure Level',\n",
      "       '2nd Blood Work Result', '3rd Blood work Result', 'Body Mass Index',\n",
      "       '4th Blod Work Result', 'Age', 'Insurance'],\n",
      "      dtype='object')\n"
     ]
    }
   ],
   "source": [
    "# select independent variables\n",
    "\n",
    "x = train_data.drop(columns='Sepssis')\n",
    "\n",
    "\n",
    "# select target variables\n",
    "\n",
    "y = train_data.loc[:, 'Sepssis']\n",
    "\n",
    "# prove that the variables were selected correctly\n",
    "\n",
    "print(x.columns)\n"
   ]
  },
  {
   "cell_type": "code",
   "execution_count": 39,
   "id": "1b243ca9",
   "metadata": {},
   "outputs": [
    {
     "name": "stdout",
     "output_type": "stream",
     "text": [
      "Sepssis\n"
     ]
    }
   ],
   "source": [
    "# prove that the variables were selected correctly\n",
    "\n",
    "print(y.name)"
   ]
  },
  {
   "cell_type": "code",
   "execution_count": 40,
   "id": "0880a2f3",
   "metadata": {},
   "outputs": [],
   "source": [
    "# Seperating the train dataset into numerical and categorical variables\n",
    "\n",
    "num_cols = x.select_dtypes(exclude='object').columns\n",
    "\n",
    "cat_cols = x.select_dtypes(include='object').columns"
   ]
  },
  {
   "cell_type": "code",
   "execution_count": 41,
   "id": "a7fa9b94",
   "metadata": {},
   "outputs": [
    {
     "name": "stdout",
     "output_type": "stream",
     "text": [
      "Shape of x_train and y_train:  (479, 9) (479,)\n",
      "Shape of x_eval and y_eval:  (120, 9) (120,)\n"
     ]
    }
   ],
   "source": [
    "\n",
    "# APPLYING TRAIN_TEST\n",
    "\n",
    "x_train,x_eval,y_train,y_eval = train_test_split(x, y,test_size=0.20,random_state=34, stratify = y)\n",
    "\n",
    "print('Shape of x_train and y_train: ',x_train.shape, y_train.shape)\n",
    "\n",
    "print('Shape of x_eval and y_eval: ',x_eval.shape, y_eval.shape)"
   ]
  },
  {
   "cell_type": "markdown",
   "id": "2a802602",
   "metadata": {},
   "source": [
    "## NORMALIZING AND ENCODING OUR DATASET"
   ]
  },
  {
   "cell_type": "code",
   "execution_count": 42,
   "id": "1ff9b388",
   "metadata": {},
   "outputs": [],
   "source": [
    "# Applying OrdinalEnconder() for categorical binary variables and  StandardScaler() for numerical variables to scale it\n",
    "\n",
    "\n",
    "cat_encoder = OrdinalEncoder()\n",
    "\n",
    "num_scaler = StandardScaler()\n",
    "\n",
    "# Apply SimpleImputer\n",
    "\n",
    "num_imputer = SimpleImputer(strategy = 'median').set_output(transform = 'pandas')\n",
    "\n",
    "cat_imputer = SimpleImputer(strategy = 'most_frequent').set_output(transform = 'pandas')"
   ]
  },
  {
   "cell_type": "code",
   "execution_count": 43,
   "id": "b33e8735",
   "metadata": {},
   "outputs": [],
   "source": [
    "# Feature pipeline\n",
    "\n",
    "num_pipe = Pipeline(steps = [('num_imputer', num_imputer), ('scaler', num_scaler)])\n",
    "\n",
    "cat_pipe = Pipeline(steps = [('cat_imputer', cat_imputer), ('encoder', cat_encoder)])\n"
   ]
  },
  {
   "cell_type": "code",
   "execution_count": 44,
   "id": "a6f8c554",
   "metadata": {},
   "outputs": [
    {
     "data": {
      "text/html": [
       "<style>#sk-container-id-1 {color: black;}#sk-container-id-1 pre{padding: 0;}#sk-container-id-1 div.sk-toggleable {background-color: white;}#sk-container-id-1 label.sk-toggleable__label {cursor: pointer;display: block;width: 100%;margin-bottom: 0;padding: 0.3em;box-sizing: border-box;text-align: center;}#sk-container-id-1 label.sk-toggleable__label-arrow:before {content: \"▸\";float: left;margin-right: 0.25em;color: #696969;}#sk-container-id-1 label.sk-toggleable__label-arrow:hover:before {color: black;}#sk-container-id-1 div.sk-estimator:hover label.sk-toggleable__label-arrow:before {color: black;}#sk-container-id-1 div.sk-toggleable__content {max-height: 0;max-width: 0;overflow: hidden;text-align: left;background-color: #f0f8ff;}#sk-container-id-1 div.sk-toggleable__content pre {margin: 0.2em;color: black;border-radius: 0.25em;background-color: #f0f8ff;}#sk-container-id-1 input.sk-toggleable__control:checked~div.sk-toggleable__content {max-height: 200px;max-width: 100%;overflow: auto;}#sk-container-id-1 input.sk-toggleable__control:checked~label.sk-toggleable__label-arrow:before {content: \"▾\";}#sk-container-id-1 div.sk-estimator input.sk-toggleable__control:checked~label.sk-toggleable__label {background-color: #d4ebff;}#sk-container-id-1 div.sk-label input.sk-toggleable__control:checked~label.sk-toggleable__label {background-color: #d4ebff;}#sk-container-id-1 input.sk-hidden--visually {border: 0;clip: rect(1px 1px 1px 1px);clip: rect(1px, 1px, 1px, 1px);height: 1px;margin: -1px;overflow: hidden;padding: 0;position: absolute;width: 1px;}#sk-container-id-1 div.sk-estimator {font-family: monospace;background-color: #f0f8ff;border: 1px dotted black;border-radius: 0.25em;box-sizing: border-box;margin-bottom: 0.5em;}#sk-container-id-1 div.sk-estimator:hover {background-color: #d4ebff;}#sk-container-id-1 div.sk-parallel-item::after {content: \"\";width: 100%;border-bottom: 1px solid gray;flex-grow: 1;}#sk-container-id-1 div.sk-label:hover label.sk-toggleable__label {background-color: #d4ebff;}#sk-container-id-1 div.sk-serial::before {content: \"\";position: absolute;border-left: 1px solid gray;box-sizing: border-box;top: 0;bottom: 0;left: 50%;z-index: 0;}#sk-container-id-1 div.sk-serial {display: flex;flex-direction: column;align-items: center;background-color: white;padding-right: 0.2em;padding-left: 0.2em;position: relative;}#sk-container-id-1 div.sk-item {position: relative;z-index: 1;}#sk-container-id-1 div.sk-parallel {display: flex;align-items: stretch;justify-content: center;background-color: white;position: relative;}#sk-container-id-1 div.sk-item::before, #sk-container-id-1 div.sk-parallel-item::before {content: \"\";position: absolute;border-left: 1px solid gray;box-sizing: border-box;top: 0;bottom: 0;left: 50%;z-index: -1;}#sk-container-id-1 div.sk-parallel-item {display: flex;flex-direction: column;z-index: 1;position: relative;background-color: white;}#sk-container-id-1 div.sk-parallel-item:first-child::after {align-self: flex-end;width: 50%;}#sk-container-id-1 div.sk-parallel-item:last-child::after {align-self: flex-start;width: 50%;}#sk-container-id-1 div.sk-parallel-item:only-child::after {width: 0;}#sk-container-id-1 div.sk-dashed-wrapped {border: 1px dashed gray;margin: 0 0.4em 0.5em 0.4em;box-sizing: border-box;padding-bottom: 0.4em;background-color: white;}#sk-container-id-1 div.sk-label label {font-family: monospace;font-weight: bold;display: inline-block;line-height: 1.2em;}#sk-container-id-1 div.sk-label-container {text-align: center;}#sk-container-id-1 div.sk-container {/* jupyter's `normalize.less` sets `[hidden] { display: none; }` but bootstrap.min.css set `[hidden] { display: none !important; }` so we also need the `!important` here to be able to override the default hidden behavior on the sphinx rendered scikit-learn.org. See: https://github.com/scikit-learn/scikit-learn/issues/21755 */display: inline-block !important;position: relative;}#sk-container-id-1 div.sk-text-repr-fallback {display: none;}</style><div id=\"sk-container-id-1\" class=\"sk-top-container\"><div class=\"sk-text-repr-fallback\"><pre>ColumnTransformer(transformers=[(&#x27;StandardScaler&#x27;,\n",
       "                                 Pipeline(steps=[(&#x27;num_imputer&#x27;,\n",
       "                                                  SimpleImputer(strategy=&#x27;median&#x27;)),\n",
       "                                                 (&#x27;scaler&#x27;, StandardScaler())]),\n",
       "                                 Index([&#x27;Plasma Glucose level&#x27;, &#x27;1st Blood Work Result&#x27;, &#x27;Blood Pressure Level&#x27;,\n",
       "       &#x27;2nd Blood Work Result&#x27;, &#x27;3rd Blood work Result&#x27;, &#x27;Body Mass Index&#x27;,\n",
       "       &#x27;4th Blod Work Result&#x27;, &#x27;Age&#x27;, &#x27;Insurance&#x27;],\n",
       "      dtype=&#x27;object&#x27;)),\n",
       "                                (&#x27;OrdinalEncoder&#x27;,\n",
       "                                 Pipeline(steps=[(&#x27;cat_imputer&#x27;,\n",
       "                                                  SimpleImputer(strategy=&#x27;most_frequent&#x27;)),\n",
       "                                                 (&#x27;encoder&#x27;,\n",
       "                                                  OrdinalEncoder())]),\n",
       "                                 Index([], dtype=&#x27;object&#x27;))])</pre><b>In a Jupyter environment, please rerun this cell to show the HTML representation or trust the notebook. <br />On GitHub, the HTML representation is unable to render, please try loading this page with nbviewer.org.</b></div><div class=\"sk-container\" hidden><div class=\"sk-item sk-dashed-wrapped\"><div class=\"sk-label-container\"><div class=\"sk-label sk-toggleable\"><input class=\"sk-toggleable__control sk-hidden--visually\" id=\"sk-estimator-id-1\" type=\"checkbox\" ><label for=\"sk-estimator-id-1\" class=\"sk-toggleable__label sk-toggleable__label-arrow\">ColumnTransformer</label><div class=\"sk-toggleable__content\"><pre>ColumnTransformer(transformers=[(&#x27;StandardScaler&#x27;,\n",
       "                                 Pipeline(steps=[(&#x27;num_imputer&#x27;,\n",
       "                                                  SimpleImputer(strategy=&#x27;median&#x27;)),\n",
       "                                                 (&#x27;scaler&#x27;, StandardScaler())]),\n",
       "                                 Index([&#x27;Plasma Glucose level&#x27;, &#x27;1st Blood Work Result&#x27;, &#x27;Blood Pressure Level&#x27;,\n",
       "       &#x27;2nd Blood Work Result&#x27;, &#x27;3rd Blood work Result&#x27;, &#x27;Body Mass Index&#x27;,\n",
       "       &#x27;4th Blod Work Result&#x27;, &#x27;Age&#x27;, &#x27;Insurance&#x27;],\n",
       "      dtype=&#x27;object&#x27;)),\n",
       "                                (&#x27;OrdinalEncoder&#x27;,\n",
       "                                 Pipeline(steps=[(&#x27;cat_imputer&#x27;,\n",
       "                                                  SimpleImputer(strategy=&#x27;most_frequent&#x27;)),\n",
       "                                                 (&#x27;encoder&#x27;,\n",
       "                                                  OrdinalEncoder())]),\n",
       "                                 Index([], dtype=&#x27;object&#x27;))])</pre></div></div></div><div class=\"sk-parallel\"><div class=\"sk-parallel-item\"><div class=\"sk-item\"><div class=\"sk-label-container\"><div class=\"sk-label sk-toggleable\"><input class=\"sk-toggleable__control sk-hidden--visually\" id=\"sk-estimator-id-2\" type=\"checkbox\" ><label for=\"sk-estimator-id-2\" class=\"sk-toggleable__label sk-toggleable__label-arrow\">StandardScaler</label><div class=\"sk-toggleable__content\"><pre>Index([&#x27;Plasma Glucose level&#x27;, &#x27;1st Blood Work Result&#x27;, &#x27;Blood Pressure Level&#x27;,\n",
       "       &#x27;2nd Blood Work Result&#x27;, &#x27;3rd Blood work Result&#x27;, &#x27;Body Mass Index&#x27;,\n",
       "       &#x27;4th Blod Work Result&#x27;, &#x27;Age&#x27;, &#x27;Insurance&#x27;],\n",
       "      dtype=&#x27;object&#x27;)</pre></div></div></div><div class=\"sk-serial\"><div class=\"sk-item\"><div class=\"sk-serial\"><div class=\"sk-item\"><div class=\"sk-estimator sk-toggleable\"><input class=\"sk-toggleable__control sk-hidden--visually\" id=\"sk-estimator-id-3\" type=\"checkbox\" ><label for=\"sk-estimator-id-3\" class=\"sk-toggleable__label sk-toggleable__label-arrow\">SimpleImputer</label><div class=\"sk-toggleable__content\"><pre>SimpleImputer(strategy=&#x27;median&#x27;)</pre></div></div></div><div class=\"sk-item\"><div class=\"sk-estimator sk-toggleable\"><input class=\"sk-toggleable__control sk-hidden--visually\" id=\"sk-estimator-id-4\" type=\"checkbox\" ><label for=\"sk-estimator-id-4\" class=\"sk-toggleable__label sk-toggleable__label-arrow\">StandardScaler</label><div class=\"sk-toggleable__content\"><pre>StandardScaler()</pre></div></div></div></div></div></div></div></div><div class=\"sk-parallel-item\"><div class=\"sk-item\"><div class=\"sk-label-container\"><div class=\"sk-label sk-toggleable\"><input class=\"sk-toggleable__control sk-hidden--visually\" id=\"sk-estimator-id-5\" type=\"checkbox\" ><label for=\"sk-estimator-id-5\" class=\"sk-toggleable__label sk-toggleable__label-arrow\">OrdinalEncoder</label><div class=\"sk-toggleable__content\"><pre>Index([], dtype=&#x27;object&#x27;)</pre></div></div></div><div class=\"sk-serial\"><div class=\"sk-item\"><div class=\"sk-serial\"><div class=\"sk-item\"><div class=\"sk-estimator sk-toggleable\"><input class=\"sk-toggleable__control sk-hidden--visually\" id=\"sk-estimator-id-6\" type=\"checkbox\" ><label for=\"sk-estimator-id-6\" class=\"sk-toggleable__label sk-toggleable__label-arrow\">SimpleImputer</label><div class=\"sk-toggleable__content\"><pre>SimpleImputer(strategy=&#x27;most_frequent&#x27;)</pre></div></div></div><div class=\"sk-item\"><div class=\"sk-estimator sk-toggleable\"><input class=\"sk-toggleable__control sk-hidden--visually\" id=\"sk-estimator-id-7\" type=\"checkbox\" ><label for=\"sk-estimator-id-7\" class=\"sk-toggleable__label sk-toggleable__label-arrow\">OrdinalEncoder</label><div class=\"sk-toggleable__content\"><pre>OrdinalEncoder()</pre></div></div></div></div></div></div></div></div></div></div></div></div>"
      ],
      "text/plain": [
       "ColumnTransformer(transformers=[('StandardScaler',\n",
       "                                 Pipeline(steps=[('num_imputer',\n",
       "                                                  SimpleImputer(strategy='median')),\n",
       "                                                 ('scaler', StandardScaler())]),\n",
       "                                 Index(['Plasma Glucose level', '1st Blood Work Result', 'Blood Pressure Level',\n",
       "       '2nd Blood Work Result', '3rd Blood work Result', 'Body Mass Index',\n",
       "       '4th Blod Work Result', 'Age', 'Insurance'],\n",
       "      dtype='object')),\n",
       "                                ('OrdinalEncoder',\n",
       "                                 Pipeline(steps=[('cat_imputer',\n",
       "                                                  SimpleImputer(strategy='most_frequent')),\n",
       "                                                 ('encoder',\n",
       "                                                  OrdinalEncoder())]),\n",
       "                                 Index([], dtype='object'))])"
      ]
     },
     "execution_count": 44,
     "metadata": {},
     "output_type": "execute_result"
    }
   ],
   "source": [
    "# End2End_pipeline Features preprocessor \n",
    "\n",
    "preprocessor = ColumnTransformer([(\"StandardScaler\", num_pipe, num_cols),\n",
    "                                  (\"OrdinalEncoder\", cat_pipe, cat_cols),])\n",
    "preprocessor.set_output(transform='pandas')"
   ]
  },
  {
   "cell_type": "code",
   "execution_count": 45,
   "id": "819e8958",
   "metadata": {},
   "outputs": [],
   "source": [
    "# end2end Pipeline\n",
    "\n",
    "clf_ = Pipeline([('preprocessor',preprocessor), ('model', None)]).set_output(transform = 'pandas')\n"
   ]
  },
  {
   "cell_type": "markdown",
   "id": "8f8759c3",
   "metadata": {},
   "source": [
    "# MODELING\n",
    "\n",
    "### WE SHALL BE TRAINING OF THE FOLLOWING MODELS:\n",
    "\n",
    "#### 1) Logistic Regression.\n",
    "\n",
    "#### 2) Decision Trees.\n",
    "\n",
    "#### 4) Random Forest.\n",
    "\n",
    "### OUR PERFORMANCE METRICS SHALL BE F1_SCORE"
   ]
  },
  {
   "cell_type": "code",
   "execution_count": 46,
   "id": "b788f0f9",
   "metadata": {},
   "outputs": [],
   "source": [
    "#Declaring our Performance metric\n",
    "\n",
    "metric = f1_score\n",
    "\n",
    "# CREATE TRAINED MODELS LIST\n",
    "\n",
    "models_trained = []"
   ]
  },
  {
   "cell_type": "markdown",
   "id": "dc33cfad",
   "metadata": {},
   "source": [
    "# LogisticRegression Model"
   ]
  },
  {
   "cell_type": "code",
   "execution_count": 47,
   "id": "d282ae04",
   "metadata": {},
   "outputs": [],
   "source": [
    "LR = Pipeline([('preprocessor',preprocessor), ('model', LogisticRegression(random_state=42))]).set_output(transform = 'pandas')"
   ]
  },
  {
   "cell_type": "code",
   "execution_count": 48,
   "id": "c134172f",
   "metadata": {},
   "outputs": [
    {
     "data": {
      "text/html": [
       "<style>#sk-container-id-2 {color: black;}#sk-container-id-2 pre{padding: 0;}#sk-container-id-2 div.sk-toggleable {background-color: white;}#sk-container-id-2 label.sk-toggleable__label {cursor: pointer;display: block;width: 100%;margin-bottom: 0;padding: 0.3em;box-sizing: border-box;text-align: center;}#sk-container-id-2 label.sk-toggleable__label-arrow:before {content: \"▸\";float: left;margin-right: 0.25em;color: #696969;}#sk-container-id-2 label.sk-toggleable__label-arrow:hover:before {color: black;}#sk-container-id-2 div.sk-estimator:hover label.sk-toggleable__label-arrow:before {color: black;}#sk-container-id-2 div.sk-toggleable__content {max-height: 0;max-width: 0;overflow: hidden;text-align: left;background-color: #f0f8ff;}#sk-container-id-2 div.sk-toggleable__content pre {margin: 0.2em;color: black;border-radius: 0.25em;background-color: #f0f8ff;}#sk-container-id-2 input.sk-toggleable__control:checked~div.sk-toggleable__content {max-height: 200px;max-width: 100%;overflow: auto;}#sk-container-id-2 input.sk-toggleable__control:checked~label.sk-toggleable__label-arrow:before {content: \"▾\";}#sk-container-id-2 div.sk-estimator input.sk-toggleable__control:checked~label.sk-toggleable__label {background-color: #d4ebff;}#sk-container-id-2 div.sk-label input.sk-toggleable__control:checked~label.sk-toggleable__label {background-color: #d4ebff;}#sk-container-id-2 input.sk-hidden--visually {border: 0;clip: rect(1px 1px 1px 1px);clip: rect(1px, 1px, 1px, 1px);height: 1px;margin: -1px;overflow: hidden;padding: 0;position: absolute;width: 1px;}#sk-container-id-2 div.sk-estimator {font-family: monospace;background-color: #f0f8ff;border: 1px dotted black;border-radius: 0.25em;box-sizing: border-box;margin-bottom: 0.5em;}#sk-container-id-2 div.sk-estimator:hover {background-color: #d4ebff;}#sk-container-id-2 div.sk-parallel-item::after {content: \"\";width: 100%;border-bottom: 1px solid gray;flex-grow: 1;}#sk-container-id-2 div.sk-label:hover label.sk-toggleable__label {background-color: #d4ebff;}#sk-container-id-2 div.sk-serial::before {content: \"\";position: absolute;border-left: 1px solid gray;box-sizing: border-box;top: 0;bottom: 0;left: 50%;z-index: 0;}#sk-container-id-2 div.sk-serial {display: flex;flex-direction: column;align-items: center;background-color: white;padding-right: 0.2em;padding-left: 0.2em;position: relative;}#sk-container-id-2 div.sk-item {position: relative;z-index: 1;}#sk-container-id-2 div.sk-parallel {display: flex;align-items: stretch;justify-content: center;background-color: white;position: relative;}#sk-container-id-2 div.sk-item::before, #sk-container-id-2 div.sk-parallel-item::before {content: \"\";position: absolute;border-left: 1px solid gray;box-sizing: border-box;top: 0;bottom: 0;left: 50%;z-index: -1;}#sk-container-id-2 div.sk-parallel-item {display: flex;flex-direction: column;z-index: 1;position: relative;background-color: white;}#sk-container-id-2 div.sk-parallel-item:first-child::after {align-self: flex-end;width: 50%;}#sk-container-id-2 div.sk-parallel-item:last-child::after {align-self: flex-start;width: 50%;}#sk-container-id-2 div.sk-parallel-item:only-child::after {width: 0;}#sk-container-id-2 div.sk-dashed-wrapped {border: 1px dashed gray;margin: 0 0.4em 0.5em 0.4em;box-sizing: border-box;padding-bottom: 0.4em;background-color: white;}#sk-container-id-2 div.sk-label label {font-family: monospace;font-weight: bold;display: inline-block;line-height: 1.2em;}#sk-container-id-2 div.sk-label-container {text-align: center;}#sk-container-id-2 div.sk-container {/* jupyter's `normalize.less` sets `[hidden] { display: none; }` but bootstrap.min.css set `[hidden] { display: none !important; }` so we also need the `!important` here to be able to override the default hidden behavior on the sphinx rendered scikit-learn.org. See: https://github.com/scikit-learn/scikit-learn/issues/21755 */display: inline-block !important;position: relative;}#sk-container-id-2 div.sk-text-repr-fallback {display: none;}</style><div id=\"sk-container-id-2\" class=\"sk-top-container\"><div class=\"sk-text-repr-fallback\"><pre>Pipeline(steps=[(&#x27;preprocessor&#x27;,\n",
       "                 ColumnTransformer(transformers=[(&#x27;StandardScaler&#x27;,\n",
       "                                                  Pipeline(steps=[(&#x27;num_imputer&#x27;,\n",
       "                                                                   SimpleImputer(strategy=&#x27;median&#x27;)),\n",
       "                                                                  (&#x27;scaler&#x27;,\n",
       "                                                                   StandardScaler())]),\n",
       "                                                  Index([&#x27;Plasma Glucose level&#x27;, &#x27;1st Blood Work Result&#x27;, &#x27;Blood Pressure Level&#x27;,\n",
       "       &#x27;2nd Blood Work Result&#x27;, &#x27;3rd Blood work Result&#x27;, &#x27;Body Mass Index&#x27;,\n",
       "       &#x27;4th Blod Work Result&#x27;, &#x27;Age&#x27;, &#x27;Insurance&#x27;],\n",
       "      dtype=&#x27;object&#x27;)),\n",
       "                                                 (&#x27;OrdinalEncoder&#x27;,\n",
       "                                                  Pipeline(steps=[(&#x27;cat_imputer&#x27;,\n",
       "                                                                   SimpleImputer(strategy=&#x27;most_frequent&#x27;)),\n",
       "                                                                  (&#x27;encoder&#x27;,\n",
       "                                                                   OrdinalEncoder())]),\n",
       "                                                  Index([], dtype=&#x27;object&#x27;))])),\n",
       "                (&#x27;model&#x27;, LogisticRegression(random_state=42))])</pre><b>In a Jupyter environment, please rerun this cell to show the HTML representation or trust the notebook. <br />On GitHub, the HTML representation is unable to render, please try loading this page with nbviewer.org.</b></div><div class=\"sk-container\" hidden><div class=\"sk-item sk-dashed-wrapped\"><div class=\"sk-label-container\"><div class=\"sk-label sk-toggleable\"><input class=\"sk-toggleable__control sk-hidden--visually\" id=\"sk-estimator-id-8\" type=\"checkbox\" ><label for=\"sk-estimator-id-8\" class=\"sk-toggleable__label sk-toggleable__label-arrow\">Pipeline</label><div class=\"sk-toggleable__content\"><pre>Pipeline(steps=[(&#x27;preprocessor&#x27;,\n",
       "                 ColumnTransformer(transformers=[(&#x27;StandardScaler&#x27;,\n",
       "                                                  Pipeline(steps=[(&#x27;num_imputer&#x27;,\n",
       "                                                                   SimpleImputer(strategy=&#x27;median&#x27;)),\n",
       "                                                                  (&#x27;scaler&#x27;,\n",
       "                                                                   StandardScaler())]),\n",
       "                                                  Index([&#x27;Plasma Glucose level&#x27;, &#x27;1st Blood Work Result&#x27;, &#x27;Blood Pressure Level&#x27;,\n",
       "       &#x27;2nd Blood Work Result&#x27;, &#x27;3rd Blood work Result&#x27;, &#x27;Body Mass Index&#x27;,\n",
       "       &#x27;4th Blod Work Result&#x27;, &#x27;Age&#x27;, &#x27;Insurance&#x27;],\n",
       "      dtype=&#x27;object&#x27;)),\n",
       "                                                 (&#x27;OrdinalEncoder&#x27;,\n",
       "                                                  Pipeline(steps=[(&#x27;cat_imputer&#x27;,\n",
       "                                                                   SimpleImputer(strategy=&#x27;most_frequent&#x27;)),\n",
       "                                                                  (&#x27;encoder&#x27;,\n",
       "                                                                   OrdinalEncoder())]),\n",
       "                                                  Index([], dtype=&#x27;object&#x27;))])),\n",
       "                (&#x27;model&#x27;, LogisticRegression(random_state=42))])</pre></div></div></div><div class=\"sk-serial\"><div class=\"sk-item sk-dashed-wrapped\"><div class=\"sk-label-container\"><div class=\"sk-label sk-toggleable\"><input class=\"sk-toggleable__control sk-hidden--visually\" id=\"sk-estimator-id-9\" type=\"checkbox\" ><label for=\"sk-estimator-id-9\" class=\"sk-toggleable__label sk-toggleable__label-arrow\">preprocessor: ColumnTransformer</label><div class=\"sk-toggleable__content\"><pre>ColumnTransformer(transformers=[(&#x27;StandardScaler&#x27;,\n",
       "                                 Pipeline(steps=[(&#x27;num_imputer&#x27;,\n",
       "                                                  SimpleImputer(strategy=&#x27;median&#x27;)),\n",
       "                                                 (&#x27;scaler&#x27;, StandardScaler())]),\n",
       "                                 Index([&#x27;Plasma Glucose level&#x27;, &#x27;1st Blood Work Result&#x27;, &#x27;Blood Pressure Level&#x27;,\n",
       "       &#x27;2nd Blood Work Result&#x27;, &#x27;3rd Blood work Result&#x27;, &#x27;Body Mass Index&#x27;,\n",
       "       &#x27;4th Blod Work Result&#x27;, &#x27;Age&#x27;, &#x27;Insurance&#x27;],\n",
       "      dtype=&#x27;object&#x27;)),\n",
       "                                (&#x27;OrdinalEncoder&#x27;,\n",
       "                                 Pipeline(steps=[(&#x27;cat_imputer&#x27;,\n",
       "                                                  SimpleImputer(strategy=&#x27;most_frequent&#x27;)),\n",
       "                                                 (&#x27;encoder&#x27;,\n",
       "                                                  OrdinalEncoder())]),\n",
       "                                 Index([], dtype=&#x27;object&#x27;))])</pre></div></div></div><div class=\"sk-parallel\"><div class=\"sk-parallel-item\"><div class=\"sk-item\"><div class=\"sk-label-container\"><div class=\"sk-label sk-toggleable\"><input class=\"sk-toggleable__control sk-hidden--visually\" id=\"sk-estimator-id-10\" type=\"checkbox\" ><label for=\"sk-estimator-id-10\" class=\"sk-toggleable__label sk-toggleable__label-arrow\">StandardScaler</label><div class=\"sk-toggleable__content\"><pre>Index([&#x27;Plasma Glucose level&#x27;, &#x27;1st Blood Work Result&#x27;, &#x27;Blood Pressure Level&#x27;,\n",
       "       &#x27;2nd Blood Work Result&#x27;, &#x27;3rd Blood work Result&#x27;, &#x27;Body Mass Index&#x27;,\n",
       "       &#x27;4th Blod Work Result&#x27;, &#x27;Age&#x27;, &#x27;Insurance&#x27;],\n",
       "      dtype=&#x27;object&#x27;)</pre></div></div></div><div class=\"sk-serial\"><div class=\"sk-item\"><div class=\"sk-serial\"><div class=\"sk-item\"><div class=\"sk-estimator sk-toggleable\"><input class=\"sk-toggleable__control sk-hidden--visually\" id=\"sk-estimator-id-11\" type=\"checkbox\" ><label for=\"sk-estimator-id-11\" class=\"sk-toggleable__label sk-toggleable__label-arrow\">SimpleImputer</label><div class=\"sk-toggleable__content\"><pre>SimpleImputer(strategy=&#x27;median&#x27;)</pre></div></div></div><div class=\"sk-item\"><div class=\"sk-estimator sk-toggleable\"><input class=\"sk-toggleable__control sk-hidden--visually\" id=\"sk-estimator-id-12\" type=\"checkbox\" ><label for=\"sk-estimator-id-12\" class=\"sk-toggleable__label sk-toggleable__label-arrow\">StandardScaler</label><div class=\"sk-toggleable__content\"><pre>StandardScaler()</pre></div></div></div></div></div></div></div></div><div class=\"sk-parallel-item\"><div class=\"sk-item\"><div class=\"sk-label-container\"><div class=\"sk-label sk-toggleable\"><input class=\"sk-toggleable__control sk-hidden--visually\" id=\"sk-estimator-id-13\" type=\"checkbox\" ><label for=\"sk-estimator-id-13\" class=\"sk-toggleable__label sk-toggleable__label-arrow\">OrdinalEncoder</label><div class=\"sk-toggleable__content\"><pre>Index([], dtype=&#x27;object&#x27;)</pre></div></div></div><div class=\"sk-serial\"><div class=\"sk-item\"><div class=\"sk-serial\"><div class=\"sk-item\"><div class=\"sk-estimator sk-toggleable\"><input class=\"sk-toggleable__control sk-hidden--visually\" id=\"sk-estimator-id-14\" type=\"checkbox\" ><label for=\"sk-estimator-id-14\" class=\"sk-toggleable__label sk-toggleable__label-arrow\">SimpleImputer</label><div class=\"sk-toggleable__content\"><pre>SimpleImputer(strategy=&#x27;most_frequent&#x27;)</pre></div></div></div><div class=\"sk-item\"><div class=\"sk-estimator sk-toggleable\"><input class=\"sk-toggleable__control sk-hidden--visually\" id=\"sk-estimator-id-15\" type=\"checkbox\" ><label for=\"sk-estimator-id-15\" class=\"sk-toggleable__label sk-toggleable__label-arrow\">OrdinalEncoder</label><div class=\"sk-toggleable__content\"><pre>OrdinalEncoder()</pre></div></div></div></div></div></div></div></div></div></div><div class=\"sk-item\"><div class=\"sk-estimator sk-toggleable\"><input class=\"sk-toggleable__control sk-hidden--visually\" id=\"sk-estimator-id-16\" type=\"checkbox\" ><label for=\"sk-estimator-id-16\" class=\"sk-toggleable__label sk-toggleable__label-arrow\">LogisticRegression</label><div class=\"sk-toggleable__content\"><pre>LogisticRegression(random_state=42)</pre></div></div></div></div></div></div></div>"
      ],
      "text/plain": [
       "Pipeline(steps=[('preprocessor',\n",
       "                 ColumnTransformer(transformers=[('StandardScaler',\n",
       "                                                  Pipeline(steps=[('num_imputer',\n",
       "                                                                   SimpleImputer(strategy='median')),\n",
       "                                                                  ('scaler',\n",
       "                                                                   StandardScaler())]),\n",
       "                                                  Index(['Plasma Glucose level', '1st Blood Work Result', 'Blood Pressure Level',\n",
       "       '2nd Blood Work Result', '3rd Blood work Result', 'Body Mass Index',\n",
       "       '4th Blod Work Result', 'Age', 'Insurance'],\n",
       "      dtype='object')),\n",
       "                                                 ('OrdinalEncoder',\n",
       "                                                  Pipeline(steps=[('cat_imputer',\n",
       "                                                                   SimpleImputer(strategy='most_frequent')),\n",
       "                                                                  ('encoder',\n",
       "                                                                   OrdinalEncoder())]),\n",
       "                                                  Index([], dtype='object'))])),\n",
       "                ('model', LogisticRegression(random_state=42))])"
      ]
     },
     "execution_count": 48,
     "metadata": {},
     "output_type": "execute_result"
    }
   ],
   "source": [
    "LR.fit(x_train, y_train)\n"
   ]
  },
  {
   "cell_type": "code",
   "execution_count": 49,
   "id": "5cf85950",
   "metadata": {},
   "outputs": [],
   "source": [
    "models_trained.append(LR)"
   ]
  },
  {
   "cell_type": "code",
   "execution_count": 52,
   "id": "622f25ae",
   "metadata": {},
   "outputs": [],
   "source": [
    "# MODEL EVALUATION USING THE EVALSET DATASET\n",
    "\n",
    "y_eval_pred_LR = LR.predict(x_eval)"
   ]
  },
  {
   "cell_type": "code",
   "execution_count": 54,
   "id": "19c4da92",
   "metadata": {},
   "outputs": [
    {
     "name": "stdout",
     "output_type": "stream",
     "text": [
      "Logistic Regression Model F1_Score is: 0.6500000000000001\n"
     ]
    }
   ],
   "source": [
    "# Calculation the f1_score performance metric on Logistic Regression\n",
    "\n",
    "f1_LR = f1_score(y_eval, y_eval_pred_LR)\n",
    "\n",
    "print(f'Logistic Regression Model F1_Score is: {f1_LR}')"
   ]
  },
  {
   "cell_type": "code",
   "execution_count": 57,
   "id": "36d67d4f",
   "metadata": {},
   "outputs": [
    {
     "name": "stdout",
     "output_type": "stream",
     "text": [
      "              precision    recall  f1-score   support\n",
      "\n",
      "           0       0.80      0.85      0.83        78\n",
      "           1       0.68      0.62      0.65        42\n",
      "\n",
      "    accuracy                           0.77       120\n",
      "   macro avg       0.74      0.73      0.74       120\n",
      "weighted avg       0.76      0.77      0.76       120\n",
      "\n"
     ]
    }
   ],
   "source": [
    "print(classification_report(y_eval, y_eval_pred_LR))\n"
   ]
  },
  {
   "cell_type": "code",
   "execution_count": null,
   "id": "1eeb9035",
   "metadata": {},
   "outputs": [],
   "source": []
  }
 ],
 "metadata": {
  "kernelspec": {
   "display_name": "Python 3 (ipykernel)",
   "language": "python",
   "name": "python3"
  },
  "language_info": {
   "codemirror_mode": {
    "name": "ipython",
    "version": 3
   },
   "file_extension": ".py",
   "mimetype": "text/x-python",
   "name": "python",
   "nbconvert_exporter": "python",
   "pygments_lexer": "ipython3",
   "version": "3.11.4"
  }
 },
 "nbformat": 4,
 "nbformat_minor": 5
}
